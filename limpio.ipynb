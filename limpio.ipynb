{
 "cells": [
  {
   "cell_type": "markdown",
   "metadata": {
    "id": "-hVND8xY2OKY"
   },
   "source": [
    "# **Procesamiento de Lenguaje Natural**\n",
    "\n",
    "## Maestría en Inteligencia Artificial Aplicada\n",
    "#### Tecnológico de Monterrey\n",
    "#### Prof Luis Eduardo Falcón Morales\n",
    "\n",
    "### **Actividad en Equipos Semanas 7 y 8 : LDA y LMM audio-a-texto**"
   ]
  },
  {
   "cell_type": "markdown",
   "metadata": {
    "id": "aimHVFOv23lm"
   },
   "source": [
    "# <font color=\"red\">**Equipo 8**</font>\n",
    "\n",
    "**Nombres y matrículas:**\n",
    "\n",
    "*   <font color=\"orange\">**A01749448**</font> Jorge Chávez Badillo\n",
    "*   <font color=\"orange\">**A01795690**</font> Michelle Alejandro Durán Sánchez\n",
    "*   <font color=\"orange\">**A01796362**</font> Eduardo Pérez Carrillo\n",
    "*   <font color=\"orange\">**A01795907**</font> Nancy Teresa Zapién García\n",
    "\n",
    "\n"
   ]
  },
  {
   "cell_type": "markdown",
   "metadata": {
    "id": "7jimvsiVgjMg"
   },
   "source": [
    "* ##### **En cada ejercicio pueden importar los paquetes o librerías que requieran.**\n",
    "\n",
    "* ##### **En cada ejercicio pueden incluir las celdas y líneas de código que deseen.**"
   ]
  },
  {
   "cell_type": "markdown",
   "metadata": {
    "id": "xYnqvAgkposl"
   },
   "source": [
    "---"
   ]
  },
  {
   "cell_type": "markdown",
   "metadata": {
    "id": "1BtP-Sk0DT-M"
   },
   "source": [
    "# **Ejercicio 1:**"
   ]
  },
  {
   "cell_type": "markdown",
   "metadata": {
    "id": "Oh78pKeMghfe"
   },
   "source": [
    "* #### **Liga de los audios de las fábulas de Esopo:** https://www.gutenberg.org/ebooks/21144\n",
    "\n",
    "* #### **Descargar los 10 archivos de audio solicitados: 1, 4, 5, 6, 14, 22, 24, 25, 26, 27.**\n",
    "\n"
   ]
  },
  {
   "cell_type": "markdown",
   "metadata": {
    "id": "A9mlHMd3eyW0"
   },
   "source": [
    "### <font color=\"orange\">**Instalaciones**</font>"
   ]
  },
  {
   "cell_type": "markdown",
   "metadata": {
    "id": "AvIpm62CeEwU"
   },
   "source": [
    "se instala **pydud** para la lectura de archivos MP3"
   ]
  },
  {
   "cell_type": "code",
   "execution_count": 1,
   "metadata": {},
   "outputs": [
    {
     "name": "stdout",
     "output_type": "stream",
     "text": [
      "Requirement already satisfied: pydub in c:\\users\\michd\\appdata\\local\\programs\\python\\python310\\lib\\site-packages (0.25.1)Note: you may need to restart the kernel to use updated packages.\n",
      "\n"
     ]
    },
    {
     "name": "stderr",
     "output_type": "stream",
     "text": [
      "WARNING: You are using pip version 21.2.3; however, version 25.1.1 is available.\n",
      "You should consider upgrading via the 'c:\\Users\\michd\\AppData\\Local\\Programs\\Python\\Python310\\python.exe -m pip install --upgrade pip' command.\n"
     ]
    }
   ],
   "source": [
    "pip install pydub"
   ]
  },
  {
   "cell_type": "markdown",
   "metadata": {
    "id": "iZX9rHIsVZqx"
   },
   "source": [
    "### <font color=\"orange\">**Importación de librerias**</font>"
   ]
  },
  {
   "cell_type": "code",
   "execution_count": 2,
   "metadata": {},
   "outputs": [
    {
     "name": "stdout",
     "output_type": "stream",
     "text": [
      "C:\\ffmpeg\\bin\\ffmpeg.exe\n",
      "C:\\ffmpeg\\bin\\ffprobe.exe\n"
     ]
    }
   ],
   "source": [
    "#cargar audios\n",
    "from pydub import AudioSegment\n",
    "#acceso a carpeta\n",
    "import os\n",
    "from pydub.utils import which\n",
    "print(which(\"ffmpeg\"))\n",
    "print(which(\"ffprobe\"))\n",
    "from gensim import corpora\n",
    "from gensim.models import LdaModel\n",
    "import pandas as pd\n",
    "import seaborn as sns\n",
    "import matplotlib.pyplot as plt"
   ]
  },
  {
   "cell_type": "code",
   "execution_count": 3,
   "metadata": {},
   "outputs": [],
   "source": [
    "#from google.colab import drive\n",
    "#drive.mount('/content/drive')"
   ]
  },
  {
   "cell_type": "markdown",
   "metadata": {
    "id": "btHl8TMoV4IO"
   },
   "source": [
    "### <font color=\"orange\">**Descarga de archivos de audio 1, 4, 5, 6, 14, 22, 24, 25, 26, 27**</font>"
   ]
  },
  {
   "cell_type": "code",
   "execution_count": 4,
   "metadata": {},
   "outputs": [
    {
     "name": "stdout",
     "output_type": "stream",
     "text": [
      "['21144-01.mp3', '21144-04.mp3', '21144-05.mp3', '21144-06.mp3', '21144-14.mp3', '21144-22.mp3', '21144-24.mp3', '21144-25.mp3', '21144-26.mp3', '21144-27.mp3']\n",
      "Se cargaron 10 audios.\n"
     ]
    }
   ],
   "source": [
    "#Ruta donde se localizan los audios\n",
    "ruta_audios = \"C:\\\\Users\\\\michd\\\\OneDrive\\\\Escritorio\\\\Maestría\\\\Materias\\\\NLP\\\\Actividad 3\\\\Audios\"\n",
    "print(os.listdir(ruta_audios))  # See if files are listed properly\n",
    "\n",
    "#Carga audios en lista\n",
    "audios = [AudioSegment.from_mp3(os.path.join(ruta_audios, f)) for f in sorted(os.listdir(ruta_audios)) if f.endswith(\".mp3\")]\n",
    "\n",
    "#para verificar\n",
    "print(f\"Se cargaron {len(audios)} audios.\")"
   ]
  },
  {
   "cell_type": "markdown",
   "metadata": {
    "id": "SAJUqNpkpq9b"
   },
   "source": [
    "----"
   ]
  },
  {
   "cell_type": "markdown",
   "metadata": {
    "id": "6uYgtCvvJSmq"
   },
   "source": [
    "# **Ejercicio 2a:**"
   ]
  },
  {
   "cell_type": "markdown",
   "metadata": {
    "id": "rAQjVP2HkoZY"
   },
   "source": [
    "* #### **Comenten el por qué del modelo seleccionado para extracción del texto de los audios.**\n",
    "\n",
    "* #### **Extraer el contenido de los audios en texto.**\n",
    "\n",
    "* #### **Sugerencia:** pueden extraerlo en un formato de diccionario, clave:valor $→$ {audio01:fabula01, ...}"
   ]
  },
  {
   "cell_type": "markdown",
   "metadata": {
    "id": "8cEcuLZzmRHU"
   },
   "source": [
    "# **Modelo Whisper de OpenAI con HuggingFace**"
   ]
  },
  {
   "cell_type": "markdown",
   "metadata": {
    "id": "aJ3XL74ZlZ5n"
   },
   "source": [
    "### <font color=\"orange\">**Instalaciones**</font>"
   ]
  },
  {
   "cell_type": "markdown",
   "metadata": {
    "id": "mBtQkwtALeeY"
   },
   "source": [
    "Para usar HuggingFace"
   ]
  },
  {
   "cell_type": "code",
   "execution_count": 5,
   "metadata": {},
   "outputs": [
    {
     "name": "stdout",
     "output_type": "stream",
     "text": [
      "Requirement already satisfied: transformers in c:\\users\\michd\\appdata\\local\\programs\\python\\python310\\lib\\site-packages (4.52.4)\n",
      "Requirement already satisfied: datasets in c:\\users\\michd\\appdata\\local\\programs\\python\\python310\\lib\\site-packages (3.6.0)\n",
      "Requirement already satisfied: torchaudio in c:\\users\\michd\\appdata\\local\\programs\\python\\python310\\lib\\site-packages (2.7.1)\n",
      "Requirement already satisfied: tokenizers<0.22,>=0.21 in c:\\users\\michd\\appdata\\local\\programs\\python\\python310\\lib\\site-packages (from transformers) (0.21.1)\n",
      "Requirement already satisfied: requests in c:\\users\\michd\\appdata\\local\\programs\\python\\python310\\lib\\site-packages (from transformers) (2.32.3)\n",
      "Requirement already satisfied: pyyaml>=5.1 in c:\\users\\michd\\appdata\\local\\programs\\python\\python310\\lib\\site-packages (from transformers) (6.0.2)\n",
      "Requirement already satisfied: tqdm>=4.27 in c:\\users\\michd\\appdata\\local\\programs\\python\\python310\\lib\\site-packages (from transformers) (4.67.1)\n",
      "Requirement already satisfied: regex!=2019.12.17 in c:\\users\\michd\\appdata\\local\\programs\\python\\python310\\lib\\site-packages (from transformers) (2024.11.6)\n",
      "Requirement already satisfied: huggingface-hub<1.0,>=0.30.0 in c:\\users\\michd\\appdata\\local\\programs\\python\\python310\\lib\\site-packages (from transformers) (0.32.4)\n",
      "Requirement already satisfied: numpy>=1.17 in c:\\users\\michd\\appdata\\local\\programs\\python\\python310\\lib\\site-packages (from transformers) (1.26.4)\n",
      "Requirement already satisfied: packaging>=20.0 in c:\\users\\michd\\appdata\\roaming\\python\\python310\\site-packages (from transformers) (25.0)\n",
      "Requirement already satisfied: filelock in c:\\users\\michd\\appdata\\local\\programs\\python\\python310\\lib\\site-packages (from transformers) (3.18.0)\n",
      "Requirement already satisfied: safetensors>=0.4.3 in c:\\users\\michd\\appdata\\local\\programs\\python\\python310\\lib\\site-packages (from transformers) (0.5.3)\n",
      "Requirement already satisfied: multiprocess<0.70.17 in c:\\users\\michd\\appdata\\local\\programs\\python\\python310\\lib\\site-packages (from datasets) (0.70.16)\n",
      "Requirement already satisfied: fsspec[http]<=2025.3.0,>=2023.1.0 in c:\\users\\michd\\appdata\\local\\programs\\python\\python310\\lib\\site-packages (from datasets) (2025.3.0)\n",
      "Requirement already satisfied: pandas in c:\\users\\michd\\appdata\\local\\programs\\python\\python310\\lib\\site-packages (from datasets) (2.3.0)\n",
      "Requirement already satisfied: dill<0.3.9,>=0.3.0 in c:\\users\\michd\\appdata\\local\\programs\\python\\python310\\lib\\site-packages (from datasets) (0.3.8)\n",
      "Requirement already satisfied: xxhash in c:\\users\\michd\\appdata\\local\\programs\\python\\python310\\lib\\site-packages (from datasets) (3.5.0)\n",
      "Requirement already satisfied: pyarrow>=15.0.0 in c:\\users\\michd\\appdata\\local\\programs\\python\\python310\\lib\\site-packages (from datasets) (20.0.0)\n",
      "Requirement already satisfied: torch==2.7.1 in c:\\users\\michd\\appdata\\local\\programs\\python\\python310\\lib\\site-packages (from torchaudio) (2.7.1)\n",
      "Requirement already satisfied: jinja2 in c:\\users\\michd\\appdata\\local\\programs\\python\\python310\\lib\\site-packages (from torch==2.7.1->torchaudio) (3.1.6)\n",
      "Requirement already satisfied: networkx in c:\\users\\michd\\appdata\\local\\programs\\python\\python310\\lib\\site-packages (from torch==2.7.1->torchaudio) (3.4.2)\n",
      "Requirement already satisfied: typing-extensions>=4.10.0 in c:\\users\\michd\\appdata\\roaming\\python\\python310\\site-packages (from torch==2.7.1->torchaudio) (4.14.0)\n",
      "Requirement already satisfied: sympy>=1.13.3 in c:\\users\\michd\\appdata\\local\\programs\\python\\python310\\lib\\site-packages (from torch==2.7.1->torchaudio) (1.14.0)\n",
      "Requirement already satisfied: aiohttp!=4.0.0a0,!=4.0.0a1 in c:\\users\\michd\\appdata\\local\\programs\\python\\python310\\lib\\site-packages (from fsspec[http]<=2025.3.0,>=2023.1.0->datasets) (3.12.11)\n",
      "Requirement already satisfied: propcache>=0.2.0 in c:\\users\\michd\\appdata\\local\\programs\\python\\python310\\lib\\site-packages (from aiohttp!=4.0.0a0,!=4.0.0a1->fsspec[http]<=2025.3.0,>=2023.1.0->datasets) (0.3.1)\n",
      "Requirement already satisfied: async-timeout<6.0,>=4.0 in c:\\users\\michd\\appdata\\local\\programs\\python\\python310\\lib\\site-packages (from aiohttp!=4.0.0a0,!=4.0.0a1->fsspec[http]<=2025.3.0,>=2023.1.0->datasets) (5.0.1)\n",
      "Requirement already satisfied: aiohappyeyeballs>=2.5.0 in c:\\users\\michd\\appdata\\local\\programs\\python\\python310\\lib\\site-packages (from aiohttp!=4.0.0a0,!=4.0.0a1->fsspec[http]<=2025.3.0,>=2023.1.0->datasets) (2.6.1)\n",
      "Requirement already satisfied: aiosignal>=1.1.2 in c:\\users\\michd\\appdata\\local\\programs\\python\\python310\\lib\\site-packages (from aiohttp!=4.0.0a0,!=4.0.0a1->fsspec[http]<=2025.3.0,>=2023.1.0->datasets) (1.3.2)\n",
      "Requirement already satisfied: multidict<7.0,>=4.5 in c:\\users\\michd\\appdata\\local\\programs\\python\\python310\\lib\\site-packages (from aiohttp!=4.0.0a0,!=4.0.0a1->fsspec[http]<=2025.3.0,>=2023.1.0->datasets) (6.4.4)\n",
      "Requirement already satisfied: attrs>=17.3.0 in c:\\users\\michd\\appdata\\local\\programs\\python\\python310\\lib\\site-packages (from aiohttp!=4.0.0a0,!=4.0.0a1->fsspec[http]<=2025.3.0,>=2023.1.0->datasets) (25.3.0)\n",
      "Requirement already satisfied: frozenlist>=1.1.1 in c:\\users\\michd\\appdata\\local\\programs\\python\\python310\\lib\\site-packages (from aiohttp!=4.0.0a0,!=4.0.0a1->fsspec[http]<=2025.3.0,>=2023.1.0->datasets) (1.6.2)\n",
      "Requirement already satisfied: yarl<2.0,>=1.17.0 in c:\\users\\michd\\appdata\\local\\programs\\python\\python310\\lib\\site-packages (from aiohttp!=4.0.0a0,!=4.0.0a1->fsspec[http]<=2025.3.0,>=2023.1.0->datasets) (1.20.0)\n",
      "Requirement already satisfied: charset-normalizer<4,>=2 in c:\\users\\michd\\appdata\\local\\programs\\python\\python310\\lib\\site-packages (from requests->transformers) (3.4.2)\n",
      "Requirement already satisfied: certifi>=2017.4.17 in c:\\users\\michd\\appdata\\local\\programs\\python\\python310\\lib\\site-packages (from requests->transformers) (2025.4.26)\n",
      "Requirement already satisfied: urllib3<3,>=1.21.1 in c:\\users\\michd\\appdata\\local\\programs\\python\\python310\\lib\\site-packages (from requests->transformers) (2.4.0)\n",
      "Requirement already satisfied: idna<4,>=2.5 in c:\\users\\michd\\appdata\\local\\programs\\python\\python310\\lib\\site-packages (from requests->transformers) (3.10)\n",
      "Requirement already satisfied: mpmath<1.4,>=1.1.0 in c:\\users\\michd\\appdata\\local\\programs\\python\\python310\\lib\\site-packages (from sympy>=1.13.3->torch==2.7.1->torchaudio) (1.3.0)\n",
      "Requirement already satisfied: colorama in c:\\users\\michd\\appdata\\roaming\\python\\python310\\site-packages (from tqdm>=4.27->transformers) (0.4.6)\n",
      "Requirement already satisfied: MarkupSafe>=2.0 in c:\\users\\michd\\appdata\\local\\programs\\python\\python310\\lib\\site-packages (from jinja2->torch==2.7.1->torchaudio) (3.0.2)\n",
      "Requirement already satisfied: tzdata>=2022.7 in c:\\users\\michd\\appdata\\local\\programs\\python\\python310\\lib\\site-packages (from pandas->datasets) (2025.2)\n",
      "Requirement already satisfied: pytz>=2020.1 in c:\\users\\michd\\appdata\\local\\programs\\python\\python310\\lib\\site-packages (from pandas->datasets) (2025.2)\n",
      "Requirement already satisfied: python-dateutil>=2.8.2 in c:\\users\\michd\\appdata\\roaming\\python\\python310\\site-packages (from pandas->datasets) (2.9.0.post0)\n",
      "Requirement already satisfied: six>=1.5 in c:\\users\\michd\\appdata\\roaming\\python\\python310\\site-packages (from python-dateutil>=2.8.2->pandas->datasets) (1.17.0)\n",
      "Note: you may need to restart the kernel to use updated packages.\n"
     ]
    },
    {
     "name": "stderr",
     "output_type": "stream",
     "text": [
      "WARNING: You are using pip version 21.2.3; however, version 25.1.1 is available.\n",
      "You should consider upgrading via the 'c:\\Users\\michd\\AppData\\Local\\Programs\\Python\\Python310\\python.exe -m pip install --upgrade pip' command.\n"
     ]
    }
   ],
   "source": [
    "pip install transformers datasets torchaudio"
   ]
  },
  {
   "cell_type": "markdown",
   "metadata": {
    "id": "RipfciFYLvWO"
   },
   "source": [
    "----"
   ]
  },
  {
   "cell_type": "markdown",
   "metadata": {
    "id": "0iJuhYZOLnxW"
   },
   "source": [
    "Para optimizar y simplificar el entrenamiento del modelo en CPU"
   ]
  },
  {
   "cell_type": "code",
   "execution_count": 6,
   "metadata": {},
   "outputs": [
    {
     "name": "stdout",
     "output_type": "stream",
     "text": [
      "Requirement already satisfied: accelerate in c:\\users\\michd\\appdata\\local\\programs\\python\\python310\\lib\\site-packages (1.7.0)\n",
      "Requirement already satisfied: pyyaml in c:\\users\\michd\\appdata\\local\\programs\\python\\python310\\lib\\site-packages (from accelerate) (6.0.2)\n",
      "Requirement already satisfied: torch>=2.0.0 in c:\\users\\michd\\appdata\\local\\programs\\python\\python310\\lib\\site-packages (from accelerate) (2.7.1)\n",
      "Requirement already satisfied: packaging>=20.0 in c:\\users\\michd\\appdata\\roaming\\python\\python310\\site-packages (from accelerate) (25.0)\n",
      "Requirement already satisfied: huggingface-hub>=0.21.0 in c:\\users\\michd\\appdata\\local\\programs\\python\\python310\\lib\\site-packages (from accelerate) (0.32.4)\n",
      "Requirement already satisfied: safetensors>=0.4.3 in c:\\users\\michd\\appdata\\local\\programs\\python\\python310\\lib\\site-packages (from accelerate) (0.5.3)\n",
      "Requirement already satisfied: numpy<3.0.0,>=1.17 in c:\\users\\michd\\appdata\\local\\programs\\python\\python310\\lib\\site-packages (from accelerate) (1.26.4)\n",
      "Requirement already satisfied: psutil in c:\\users\\michd\\appdata\\roaming\\python\\python310\\site-packages (from accelerate) (7.0.0)\n",
      "Requirement already satisfied: filelock in c:\\users\\michd\\appdata\\local\\programs\\python\\python310\\lib\\site-packages (from huggingface-hub>=0.21.0->accelerate) (3.18.0)\n",
      "Requirement already satisfied: tqdm>=4.42.1 in c:\\users\\michd\\appdata\\local\\programs\\python\\python310\\lib\\site-packages (from huggingface-hub>=0.21.0->accelerate) (4.67.1)\n",
      "Requirement already satisfied: typing-extensions>=3.7.4.3 in c:\\users\\michd\\appdata\\roaming\\python\\python310\\site-packages (from huggingface-hub>=0.21.0->accelerate) (4.14.0)\n",
      "Requirement already satisfied: fsspec>=2023.5.0 in c:\\users\\michd\\appdata\\local\\programs\\python\\python310\\lib\\site-packages (from huggingface-hub>=0.21.0->accelerate) (2025.3.0)\n",
      "Requirement already satisfied: requests in c:\\users\\michd\\appdata\\local\\programs\\python\\python310\\lib\\site-packages (from huggingface-hub>=0.21.0->accelerate) (2.32.3)\n",
      "Requirement already satisfied: sympy>=1.13.3 in c:\\users\\michd\\appdata\\local\\programs\\python\\python310\\lib\\site-packages (from torch>=2.0.0->accelerate) (1.14.0)\n",
      "Requirement already satisfied: jinja2 in c:\\users\\michd\\appdata\\local\\programs\\python\\python310\\lib\\site-packages (from torch>=2.0.0->accelerate) (3.1.6)\n",
      "Requirement already satisfied: networkx in c:\\users\\michd\\appdata\\local\\programs\\python\\python310\\lib\\site-packages (from torch>=2.0.0->accelerate) (3.4.2)\n",
      "Requirement already satisfied: mpmath<1.4,>=1.1.0 in c:\\users\\michd\\appdata\\local\\programs\\python\\python310\\lib\\site-packages (from sympy>=1.13.3->torch>=2.0.0->accelerate) (1.3.0)\n",
      "Requirement already satisfied: colorama in c:\\users\\michd\\appdata\\roaming\\python\\python310\\site-packages (from tqdm>=4.42.1->huggingface-hub>=0.21.0->accelerate) (0.4.6)\n",
      "Requirement already satisfied: MarkupSafe>=2.0 in c:\\users\\michd\\appdata\\local\\programs\\python\\python310\\lib\\site-packages (from jinja2->torch>=2.0.0->accelerate) (3.0.2)\n",
      "Requirement already satisfied: certifi>=2017.4.17 in c:\\users\\michd\\appdata\\local\\programs\\python\\python310\\lib\\site-packages (from requests->huggingface-hub>=0.21.0->accelerate) (2025.4.26)\n",
      "Requirement already satisfied: idna<4,>=2.5 in c:\\users\\michd\\appdata\\local\\programs\\python\\python310\\lib\\site-packages (from requests->huggingface-hub>=0.21.0->accelerate) (3.10)\n",
      "Requirement already satisfied: urllib3<3,>=1.21.1 in c:\\users\\michd\\appdata\\local\\programs\\python\\python310\\lib\\site-packages (from requests->huggingface-hub>=0.21.0->accelerate) (2.4.0)\n",
      "Requirement already satisfied: charset-normalizer<4,>=2 in c:\\users\\michd\\appdata\\local\\programs\\python\\python310\\lib\\site-packages (from requests->huggingface-hub>=0.21.0->accelerate) (3.4.2)\n",
      "Note: you may need to restart the kernel to use updated packages.\n"
     ]
    },
    {
     "name": "stderr",
     "output_type": "stream",
     "text": [
      "WARNING: You are using pip version 21.2.3; however, version 25.1.1 is available.\n",
      "You should consider upgrading via the 'c:\\Users\\michd\\AppData\\Local\\Programs\\Python\\Python310\\python.exe -m pip install --upgrade pip' command.\n"
     ]
    }
   ],
   "source": [
    "pip install accelerate"
   ]
  },
  {
   "cell_type": "markdown",
   "metadata": {
    "id": "QsEP6KZvlcko"
   },
   "source": [
    "### <font color=\"orange\">**Importación de librerias**</font>"
   ]
  },
  {
   "cell_type": "code",
   "execution_count": 7,
   "metadata": {},
   "outputs": [
    {
     "name": "stdout",
     "output_type": "stream",
     "text": [
      "PyTorch versión: 2.7.1+cpu\n",
      "GPU disponible: False\n"
     ]
    }
   ],
   "source": [
    "import torch\n",
    "print(\"PyTorch versión:\", torch.__version__)\n",
    "print(\"GPU disponible:\", torch.cuda.is_available())\n",
    "\n",
    "from transformers import pipeline"
   ]
  },
  {
   "cell_type": "markdown",
   "metadata": {
    "id": "JSUqDvN1m6Tw"
   },
   "source": [
    "### <font color=\"orange\">**Extraccion contenido de audios**</font>"
   ]
  },
  {
   "cell_type": "markdown",
   "metadata": {
    "id": "G5dl4D1KMnYm"
   },
   "source": [
    "En este segmento de codigo se almacenan los audios en una carpeta para posteriormente guardar los resultados en un el diccionario haciendo uso de Whisper"
   ]
  },
  {
   "cell_type": "code",
   "execution_count": 8,
   "metadata": {},
   "outputs": [
    {
     "name": "stderr",
     "output_type": "stream",
     "text": [
      "Device set to use cpu\n",
      "c:\\Users\\michd\\AppData\\Local\\Programs\\Python\\Python310\\lib\\site-packages\\transformers\\models\\whisper\\generation_whisper.py:573: FutureWarning: The input name `inputs` is deprecated. Please make sure to use `input_features` instead.\n",
      "  warnings.warn(\n",
      "Due to a bug fix in https://github.com/huggingface/transformers/pull/28687 transcription using a multilingual Whisper will default to language detection followed by transcription instead of translation to English.This might be a breaking change for your use case. If you want to instead always translate your audio to English, make sure to pass `language='en'`.\n"
     ]
    },
    {
     "name": "stdout",
     "output_type": "stream",
     "text": [
      "Transcribiendo: 21144-01.mp3...\n"
     ]
    },
    {
     "name": "stderr",
     "output_type": "stream",
     "text": [
      "Whisper did not predict an ending timestamp, which can happen if audio is cut off in the middle of a word. Also make sure WhisperTimeStampLogitsProcessor was used during generation.\n"
     ]
    },
    {
     "name": "stdout",
     "output_type": "stream",
     "text": [
      "Transcribiendo: 21144-04.mp3...\n"
     ]
    },
    {
     "name": "stderr",
     "output_type": "stream",
     "text": [
      "Whisper did not predict an ending timestamp, which can happen if audio is cut off in the middle of a word. Also make sure WhisperTimeStampLogitsProcessor was used during generation.\n"
     ]
    },
    {
     "name": "stdout",
     "output_type": "stream",
     "text": [
      "Transcribiendo: 21144-05.mp3...\n"
     ]
    },
    {
     "name": "stderr",
     "output_type": "stream",
     "text": [
      "Whisper did not predict an ending timestamp, which can happen if audio is cut off in the middle of a word. Also make sure WhisperTimeStampLogitsProcessor was used during generation.\n"
     ]
    },
    {
     "name": "stdout",
     "output_type": "stream",
     "text": [
      "Transcribiendo: 21144-06.mp3...\n",
      "Transcribiendo: 21144-14.mp3...\n"
     ]
    },
    {
     "name": "stderr",
     "output_type": "stream",
     "text": [
      "Whisper did not predict an ending timestamp, which can happen if audio is cut off in the middle of a word. Also make sure WhisperTimeStampLogitsProcessor was used during generation.\n"
     ]
    },
    {
     "name": "stdout",
     "output_type": "stream",
     "text": [
      "Transcribiendo: 21144-22.mp3...\n"
     ]
    },
    {
     "name": "stderr",
     "output_type": "stream",
     "text": [
      "Whisper did not predict an ending timestamp, which can happen if audio is cut off in the middle of a word. Also make sure WhisperTimeStampLogitsProcessor was used during generation.\n"
     ]
    },
    {
     "name": "stdout",
     "output_type": "stream",
     "text": [
      "Transcribiendo: 21144-24.mp3...\n"
     ]
    },
    {
     "name": "stderr",
     "output_type": "stream",
     "text": [
      "Whisper did not predict an ending timestamp, which can happen if audio is cut off in the middle of a word. Also make sure WhisperTimeStampLogitsProcessor was used during generation.\n"
     ]
    },
    {
     "name": "stdout",
     "output_type": "stream",
     "text": [
      "Transcribiendo: 21144-25.mp3...\n"
     ]
    },
    {
     "name": "stderr",
     "output_type": "stream",
     "text": [
      "Whisper did not predict an ending timestamp, which can happen if audio is cut off in the middle of a word. Also make sure WhisperTimeStampLogitsProcessor was used during generation.\n"
     ]
    },
    {
     "name": "stdout",
     "output_type": "stream",
     "text": [
      "Transcribiendo: 21144-26.mp3...\n"
     ]
    },
    {
     "name": "stderr",
     "output_type": "stream",
     "text": [
      "Whisper did not predict an ending timestamp, which can happen if audio is cut off in the middle of a word. Also make sure WhisperTimeStampLogitsProcessor was used during generation.\n"
     ]
    },
    {
     "name": "stdout",
     "output_type": "stream",
     "text": [
      "Transcribiendo: 21144-27.mp3...\n"
     ]
    },
    {
     "name": "stderr",
     "output_type": "stream",
     "text": [
      "Whisper did not predict an ending timestamp, which can happen if audio is cut off in the middle of a word. Also make sure WhisperTimeStampLogitsProcessor was used during generation.\n"
     ]
    },
    {
     "name": "stdout",
     "output_type": "stream",
     "text": [
      "\n",
      "\n",
      "Visualización del contenido de los audios\n",
      "--------------------------------------------------------------------\n",
      "21144-01:\n",
      "  Las fábulas de sopo, grabado para librebox.org por paulino, www.paulino.info.  Fábula número 61, el lobo y el cordero en el templo.  Tando se cuenta de que era perseguido por un lobo,   un pequeño cordelito decidió refugiarse en un templo cercano. Lo llamó lobo y le dijo que si el sacrificador lo encontraba allí adentro lo emolaría a su Dios. Mejor así replicó el  cordero, prefiero ser víctima para un Dios a tener que perecer en tus colmillos. Si sin remedio   vamos a ser sacrificados, más nos vale que sea con el mayor honor, fin de la fábula.  Esta es una grabación del dominio público.\n",
      "\n",
      "\n",
      "--------------------------------------------------------------------\n",
      "21144-04:\n",
      "  Las fábulas de sopo grabado para libreboats.org por Roberto Antonio Muñoz,  fábula número 64, el logo y la cruza.  A un lobo que comía un hueso se le atragantó el hueso en la garganta y corría por todas partes en busta de auxilma.  Encontró en su carrera una grulla y le pidió que le salvara de aquella situación y que enseguida le pagaría por ello.   aceptó la grulla e introdujo su cabeza en la boca del logo, sacando de la garcanta el hueso atravesado, pidió entonces la cancelación de la paga convenida, hoy aniga dijo el logo,  no crees que es suficiente paga con haber sacado tu cabeza sana y salvada en el boca, nunca  hagas favores amalvados, trascantes o corruptos, pues mucha paga tendrías si te dejan sano   salvo, fin de tabula, esta grabación es de dominio público.\n",
      "\n",
      "\n",
      "--------------------------------------------------------------------\n",
      "21144-05:\n",
      "  Las fábulas de sopo, grabado para LibriVox.org por Karen Savage, fábula número 65, el lobo y el caballo.  Pasaba un lobo por un sembrado de cebada, pero como no era comida de su gusto, la dejó y siguió su camino.  Encontró al rato a un caballo y le llevó al campo comentándole la gran cantidad de cebada que había hallado,   pero que en vez de comerse la él, mejor se la había dejado porque le agradaban más o ir el ruido de sus dientes al masticarla. Pero el caballo le repuso, amigo, si los lobos conmieran  cebada, no hubieras preferido complacer a tus oídos si no a tu estómago. A todo malvado,  aunque parezca actuar como bueno, no debe de creírsele.   Finde fágula. Esta grabación es de dominio público.\n",
      "\n",
      "\n",
      "--------------------------------------------------------------------\n",
      "21144-06:\n",
      "  Las fábulas de desopo, grabado para librebrox.org, por Alejandro González Calerón.  Fábula, número 66, el lobo y el asno. Un lobo fue elegido rey entre sus congéneres y decreto  una ley ordenando que lo que cada uno capturase en la casa, lo pusiera en común y lo repartiese por  partes iguales entre todos. De esta manera, te anotendría los lobo que devorarse unos a otros en   época de hambre. Pero no eso le escuchó un asno que estaba por ahí cerca y moviendo sus orejas le dijo, magnífica idea abrotado de tu corazón, pero ¿por qué se es contido  todo tu botín en tu cueva, llevando a la comunidad y repártelo también como lo ha secretado?  El lobo descubriarte confundido de rogo su ley. Si alguna vez llegas a tener poder   de legislar, se el primero en cumplir tus propias leyes. Finde la fagula, esta grabación es de dominio público.\n",
      "\n",
      "\n",
      "--------------------------------------------------------------------\n",
      "21144-14:\n",
      "  Las fábulas de sopo, grabado para LibriVox.org por el ochito, fábula número 74, el lobo y el cabrito encerrado.  Protegido por la seguridad del corral de una casa, un cabrito vio pasar a un lobo y comenzó a insultarle burlando se ampliamente de él.   El lobo serenamente le replico. Infeliz, sé que no eres tú quien me está insultando sino el sitio en que te encuentras.  Muy a menudo no es el valor sino la ocasión y el lugar que nos proveen el enfrentamiento arrogante ante los poderosos.   fin de la fábula. Esta grabación es del dominio público.\n",
      "\n",
      "\n",
      "--------------------------------------------------------------------\n",
      "21144-22:\n",
      "  Las fábulas de esopo, grabado para librebox.org por el ochito.  Fábula número 82, el perro y la alméja.  Un perro de esos acostumbrados a comer huevos al ver una alméja,  no lo pensó dos veces y creyendo que se trataba de un huevo,  se la atragó inmediatamente.  Descarradas luego sus entrañas se sintió muy mal y se dijo,   dijo. Bien merecido lo tengo, por creer que todo lo que veo redondo son huevos. Nunca tome su asunto sin antes reflexionar, para no entrar luego en extrañas dificultades.   de la faula. Esta grabación es del dominio público.\n",
      "\n",
      "\n",
      "--------------------------------------------------------------------\n",
      "21144-24:\n",
      "  Las fábulas de sopo, grabado para LibriVox.org por Karen Savage, fábula número 84, el perro y el reflejo en el río.  Vadiaba un perro, un río, llevando en su hocico un sabroso pedazo de carne. Vió su propio reflejo en el agua del río y creyó que aquel reflejo era, en realidad, otro perro, que llevaba un trozo de carne mayor que el suyo.   y deseando adueñarse del pedazo ajeno, soltó el suyo para rebatar el trozo a su supuesto compadre. Pero el resultado fue que se quedó sin el propio y sin el ajeno. Este, porque  no existía, sólo era un reflejo, y el otro, el verdadero, porque se lo llevó a la corriente.  Nunca codíciese el bien ajeno, pues puedes perder lo que ya has adquirido con tu esfuerzo.   de fábula. Esta grabación es de dominio público.\n",
      "\n",
      "\n",
      "--------------------------------------------------------------------\n",
      "21144-25:\n",
      "  Las fábblas de Esopo, grabada o paralípevox.org, fábola número 85, el pero y el carnicero.  Penetro, un pero en una carnicería, inotando que el carnicero estaba muy ocupado con sus clientes,  cogió introso de carne y se lió corriendo.   Se volvió el canicero, y viendole a huir, y sin poder hacer en nada exclamó. Hoy, amigo, ahí donde te encuentre, no dejaré de mirarte.  No esperes a que suceda un accidente, para pensar en cómo evitarlo.   Fín de Vábala. Esta grabación es de dominio público.\n",
      "\n",
      "\n",
      "--------------------------------------------------------------------\n",
      "21144-26:\n",
      "  Las fábulas de sopo, grabado para librebox.org por el ochito.  Fábula número 86, el perro con campanilla.  Había un perro que acostumbraba a morder sin razón.  Le puso su amo una campanilla para advertirle a la gente de su presencia cercana.  Y el can, sonando la campanilla, se fue a la plaza pública a presumir.   Más una sabia perra, ya avanzada de años, le dijo, ¿de qué presumes tanto, amigo? Sé que no llevas esa campanilla por tus grandes virtudes, sino para anunciar tu maldado  culta.  Los alagos que se hacen a sí mismo, los fanfarrones, solo delatan sus mayores defectos.   de la fábula, esta gravación es del dominio público.\n",
      "\n",
      "\n",
      "--------------------------------------------------------------------\n",
      "21144-27:\n",
      "  Las fábulas de Esopo, grabado para Libribox.org por El Ochito, fábula número 87, el perro que perseguía al León.  Un perro de casas se encontró con un León y partió en su persecución, pero el León se volvió rugiendo y el perro, todo temorizado, retrocedió rápidamente por el mismo camino.   Le vio una zorra y le dijo, Perro infeliz,  Primero perseguía San León y ya ni siquiera soporta sus surgidos.  Cuando entres a una empresa, mantente siempre listo a afrontar imprevistos que no te imaginabas.  Finde la faula, esta grabación es del dominio público.  No, no, no, no, no, no, no, no, no, no, no, no, no, no, no, no, no, no, no, no, no, no, no, no, no, no, no, no, no, no, no, no, no, no, no, no, no, no, no, no, no, no, no, no, no, no, no, no, no, no, no, no, no, no, no, no, no, no, no, no, no, no, no, no, no, no, no, no, no, no, no, no, no, no, no, no, no, no, no, no, no, no, no, no, no, no, no, no, no, no, no, no, no, no, no, no, no, no, no, no, no, no, no, no, no, no, no, no, no, no, no, no, no, no, no, no, no, no, no, no, no, no, no, no, no, no, no, no, no, no, no, no, no, no, no, no, no, no, no, no, no, no, no, no, no, no, no, no, no, no, no, no, no, no, no, no, no, no, no, no, no, no, no, no, no, no, no, no, no, no, no, no, no, no, no, no, no, no, no, no, no, no, no, no, no, no, no, no, no, no, no, no, no, no, no, no, no, no, no, no, no, no, no, no, no, no, no, no, no, no, no, no, no, no, no, no, no, no, no, no, no, no,\n",
      "\n",
      "\n"
     ]
    }
   ],
   "source": [
    "#Carga modelo Whisper desde HuggingFace\n",
    "transcriber = pipeline(\"automatic-speech-recognition\", model=\"openai/whisper-base\",\n",
    "                       device=-1,  # 0 con GPU / -1 sin usar GPU\n",
    "                       return_timestamps=True\n",
    "                       )\n",
    "\n",
    "#Diccionario (Almacenara los resultados)\n",
    "transcripciones = {}\n",
    "\n",
    "#Iteracion\n",
    "for archivo in sorted(os.listdir(ruta_audios)):\n",
    "    if archivo.endswith(\".mp3\"):\n",
    "        ruta = os.path.join(ruta_audios, archivo)\n",
    "        clave = os.path.splitext(archivo)[0]  #Nombre del archivo sin la extensión\n",
    "\n",
    "        print(f\"Transcribiendo: {archivo}...\")\n",
    "        resultado = transcriber(ruta)\n",
    "\n",
    "        #Extrae el texto de los segmentos\n",
    "        texto = \" \".join([seg[\"text\"] for seg in resultado[\"chunks\"]])\n",
    "        transcripciones[clave] = texto\n",
    "\n",
    "#Visualizar resultados\n",
    "print(\"\\n\\nVisualización del contenido de los audios\")\n",
    "for clave, texto in transcripciones.items():\n",
    "    print(\"--------------------------------------------------------------------\")\n",
    "    print(f\"{clave}:\\n {texto}\")\n",
    "    print(\"\\n\")"
   ]
  },
  {
   "cell_type": "markdown",
   "metadata": {
    "id": "NM0D83j8EWiN"
   },
   "source": [
    "# **Ejercicio 2b:**"
   ]
  },
  {
   "cell_type": "markdown",
   "metadata": {
    "id": "xiFG5q88EYHU"
   },
   "source": [
    "* #### **Eliminar el inicio y final comunes de los textos extraídos de cada fábula.**\n",
    "\n",
    "* #### **Sugerencia:** Pueden guardar esta información en un archivo tipo JSON, para que al estar probando diferentes opciones en los ejercicios siguientes, puedan recuperar rápidamente la información de cada video/fábula."
   ]
  },
  {
   "cell_type": "markdown",
   "metadata": {
    "id": "RZ2bhgqhNAIE"
   },
   "source": [
    "### <font color=\"orange\">**Importación de librerias**</font>"
   ]
  },
  {
   "cell_type": "code",
   "execution_count": 9,
   "metadata": {},
   "outputs": [],
   "source": [
    "#Expresiones regulares\n",
    "import re\n",
    "#Formato JSON\n",
    "import json\n",
    "import unicodedata"
   ]
  },
  {
   "cell_type": "markdown",
   "metadata": {
    "id": "WjhnbCNeOM43"
   },
   "source": [
    "### <font color=\"orange\">**Función para limpieza**</font>"
   ]
  },
  {
   "cell_type": "markdown",
   "metadata": {
    "id": "RlL7sHxiO_Ee"
   },
   "source": [
    "El siguiente código tiene como propósito limpiar y estandarizar el texto transcrito de audios de fábulas, eliminando partes que no forman parte del contenido principal, como introducciones automáticas o frases de cierre.\n",
    "\n",
    "Elimina de forma automática los fragmentos como:\n",
    "\n",
    "- “Las fábulas de Esopo...”\n",
    "- “De la fábula, esta grabación es dominio público”\n",
    "\n",
    "La función `normalizar_texto(texto)`:\n",
    "\n",
    "- Quita acentos utilizando `unicodedata.normalize`.\n",
    "- Elimina caracteres especiales no alfabéticos.\n",
    "- Convierte el texto a minúsculas.\n",
    "- Reemplaza múltiples espacios por uno solo.\n",
    "- Elimina espacios sobrantes al inicio y final.\n",
    "\n",
    "La función `limpiar_texto(texto)`:\n",
    "\n",
    "- Elimina todo lo que está antes de frases como “número 123”.\n",
    "- Elimina repeticiones como “no, no, no...” si se repite muchas veces.\n",
    "- Elimina diferentes versiones de la frase “de la fábula esta grabación es dominio público”.\n",
    "\n",
    "| Símbolo / Método            | Descripción                                                                 |\n",
    "|-----------------------------|-----------------------------------------------------------------------------|\n",
    "| `re.sub(patrón, '', texto)` | Reemplaza texto que coincide con un patrón de expresión regular             |\n",
    "| `^`                         | Indica el inicio de una línea                                               |\n",
    "| `.*?`                       | Coincide con cualquier texto (modo no codicioso)                           |\n",
    "| `\\d+`                       | Coincide con uno o más dígitos                                              |\n",
    "| `\\s*`                       | Coincide con cero o más espacios en blanco                                 |\n",
    "| `[^\\w\\s]`                   | Coincide con todo lo que no sea letra, número o espacio                     |\n",
    "| `\\b`                        | Indica límite de palabra                                                    |\n",
    "| `.strip()`                  | Elimina espacios al inicio y final del texto                                |\n",
    "\n",
    "Después de aplicar estas funciones, el texto queda limpio, normalizado y sin frases innecesarias de introducción o cierre.\n"
   ]
  },
  {
   "cell_type": "code",
   "execution_count": 10,
   "metadata": {},
   "outputs": [],
   "source": [
    "def normalizar_texto(texto):\n",
    "  # Quitar acentos\n",
    "  texto = unicodedata.normalize('NFD', texto)\n",
    "  texto = texto.encode('ascii', 'ignore').decode('utf-8')\n",
    "\n",
    "  # Eliminar signos de puntuación y símbolos\n",
    "  texto = re.sub(r'[^\\w\\s]', '', texto)\n",
    "\n",
    "  # Convertir a minúsculas\n",
    "  texto = texto.lower()\n",
    "\n",
    "  # Reemplazar múltiples espacios por uno\n",
    "  texto = re.sub(r'\\s+', ' ', texto).strip()\n",
    "\n",
    "  return texto\n",
    "\n",
    "def limpiar_texto(texto):\n",
    "    # Normalizar el texto primero\n",
    "    texto = normalizar_texto(texto)\n",
    "\n",
    "    # Eliminar desde el inicio hasta \"numero <número> \"\n",
    "    texto = re.sub(r'^.*?numero \\d+\\s*', '', texto)\n",
    "\n",
    "    # Eliminar repeticiones largas de \"no, no, no...\" u otros ruidos al final\n",
    "    texto = re.sub(r\"(no[,.\\s]*){5,}\", \"\", texto)\n",
    "\n",
    "    # Eliminar desde \"fin de\" o \"din de\" (variantes) hasta el final\n",
    "    texto = re.sub(r'\\b(?:fin|din|finde)\\s*(?:de\\s*(?:la\\s*)?(?:fa[bp]u?la|fabola|faula|fagula|tabula|fabula))?.*', '', texto)\n",
    "    texto = re.sub(r'(fin|din|finde)?\\s*(de)?\\s*(la)?\\s*f[aá]b[uú]l[ae]?\\s*(esta)?\\s*g?ra?va?ci[oó]n\\s*(es)?\\s*(de)?\\s*dominio\\s*publico', '', texto)\n",
    "    texto = re.sub(r'(?:de\\s+)?la?\\s*f[aá]bula\\s+esta\\s+gr(a|á)vaci[oó]n\\s+es\\s+(del?\\s+)?dominio\\s+publico', '', texto)\n",
    "    texto = texto.replace(\"de la fabula esta grabacion es dominio publico\", \"\")\n",
    "    texto = texto.replace(\"de la fabula esta grabacion es del dominio publico\", \"\")\n",
    "    texto = texto.replace(\"de fabula esta grabacion es de dominio publico\", \"\")\n",
    "\n",
    "    return texto"
   ]
  },
  {
   "cell_type": "markdown",
   "metadata": {
    "id": "2P8ZqIinOUHI"
   },
   "source": [
    "### <font color=\"orange\">**Guardar en JSON**</font>"
   ]
  },
  {
   "cell_type": "code",
   "execution_count": 11,
   "metadata": {},
   "outputs": [
    {
     "name": "stdout",
     "output_type": "stream",
     "text": [
      "Transcripciones limpias guardadas en: C:\\Users\\michd\\Downloads\\transcripciones.json\n"
     ]
    }
   ],
   "source": [
    "#Diccionario\n",
    "  #Limpia transcripcciones y las guarda en nuevo Dicionario\n",
    "transcripciones_limpias = {clave: limpiar_texto(texto) for clave, texto in transcripciones.items()}\n",
    "\n",
    "#Ruta donde se guardara nueva transcripcion\n",
    "ruta_guardado = r\"C:\\Users\\michd\\Downloads\\transcripciones.json\"\n",
    "\n",
    "\n",
    "\n",
    "#Abrir archivo modo escritura \"w\", codificacion UTF-8 (soporta acentos, ñ, entre otros)\n",
    "with open(ruta_guardado, \"w\", encoding=\"utf-8\") as f:\n",
    "\n",
    "    #formato JSON\n",
    "    json.dump(transcripciones_limpias, f, indent=2, ensure_ascii=False)\n",
    "\n",
    "#Confirma JSON guardado\n",
    "print(f\"Transcripciones limpias guardadas en: {ruta_guardado}\")"
   ]
  },
  {
   "cell_type": "markdown",
   "metadata": {
    "id": "6PKaB_Ge0Shc"
   },
   "source": [
    "# **Ejercicio 3:**"
   ]
  },
  {
   "cell_type": "markdown",
   "metadata": {
    "id": "zNrqcQFe0VWR"
   },
   "source": [
    "* #### **Apliquen el proceso de limpieza que consideren adecuado.**\n",
    "\n",
    "* #### **Justifiquen los pasos de limpieza utilizados. Tomen en cuenta que el texto extraído de cada fábula es relativamente pequeño.**\n",
    "\n",
    "* #### **En caso de que decidan no aplicar esta etapa de limpieza, deberán justificarlo.**"
   ]
  },
  {
   "cell_type": "markdown",
   "metadata": {},
   "source": [
    "### <font color=\"orange\">**Justificación**</font>"
   ]
  },
  {
   "cell_type": "markdown",
   "metadata": {
    "id": "Ai--W6pN8Dm5"
   },
   "source": [
    "Se decidió realizar dos procesos de limpieza.\n",
    "\n",
    "Tokenización:\n",
    "Divide el texto en unidades más pequeñas llamadas tokens (generalmente palabras). Esto es fundamental porque la mayoría de los algoritmos de procesamiento de lenguaje natural (NLP), como LDA, trabajan a nivel de tokens para analizar la frecuencia, coocurrencia y relación entre palabras. Sin tokenización, el modelo no podría identificar las palabras individuales que forman el contenido del texto.\n",
    "\n",
    "Eliminación de stopwords:\n",
    "Las stopwords son palabras muy comunes (como “el”, “la”, “y”, “de”) que aportan poco o ningún valor semántico para el análisis temático o de contenido. Eliminarlas reduce el ruido en los datos y ayuda a que los modelos se enfoquen en palabras que realmente aportan significado y contexto al texto. Esto mejora la calidad y relevancia de las palabras clave que extrae el modelo."
   ]
  },
  {
   "cell_type": "markdown",
   "metadata": {},
   "source": [
    "### <font color=\"orange\">**Importación de librerias**</font>"
   ]
  },
  {
   "cell_type": "code",
   "execution_count": 12,
   "metadata": {},
   "outputs": [
    {
     "name": "stderr",
     "output_type": "stream",
     "text": [
      "[nltk_data] Downloading package punkt to\n",
      "[nltk_data]     C:\\Users\\michd\\AppData\\Roaming\\nltk_data...\n",
      "[nltk_data]   Package punkt is already up-to-date!\n",
      "[nltk_data] Downloading package stopwords to\n",
      "[nltk_data]     C:\\Users\\michd\\AppData\\Roaming\\nltk_data...\n",
      "[nltk_data]   Package stopwords is already up-to-date!\n",
      "[nltk_data] Downloading package punkt_tab to\n",
      "[nltk_data]     C:\\Users\\michd\\AppData\\Roaming\\nltk_data...\n",
      "[nltk_data]   Package punkt_tab is already up-to-date!\n",
      "[nltk_data] Downloading package wordnet to\n",
      "[nltk_data]     C:\\Users\\michd\\AppData\\Roaming\\nltk_data...\n",
      "[nltk_data]   Package wordnet is already up-to-date!\n"
     ]
    },
    {
     "data": {
      "text/plain": [
       "True"
      ]
     },
     "execution_count": 12,
     "metadata": {},
     "output_type": "execute_result"
    }
   ],
   "source": [
    "import nltk\n",
    "from nltk.corpus import stopwords\n",
    "from nltk.tokenize import word_tokenize\n",
    "\n",
    "nltk.download('punkt')    # es un tokenizador que ayuda a dividr el texto en enunciados mediante un modelo no-supervisado.\n",
    "nltk.download('stopwords')    # para tener acceso a \"stopwords\" en varios idiomas.\n",
    "nltk.download('punkt_tab')\n",
    "nltk.download('wordnet')"
   ]
  },
  {
   "cell_type": "markdown",
   "metadata": {},
   "source": [
    "### <font color=\"orange\">**Tokenización y Stopwords**</font>"
   ]
  },
  {
   "cell_type": "code",
   "execution_count": 13,
   "metadata": {},
   "outputs": [],
   "source": [
    "# Incluyan a continuación todas las celdas (de código o texto) que deseen...\n",
    "\n",
    "ruta_guardado = r\"C:\\Users\\michd\\Downloads\\transcripciones.json\"\n",
    "\n",
    "\n",
    "# Cargar JSON\n",
    "with open(ruta_guardado, 'r', encoding='utf-8') as f:\n",
    "    data = json.load(f)\n",
    "\n",
    "stopwords_es = set(stopwords.words('spanish'))\n",
    "\n",
    "data_tokenizada = {}\n",
    "\n",
    "for key, texto in data.items():\n",
    "    # Tokenizar texto\n",
    "    tokens = word_tokenize(texto, language='spanish')\n",
    "\n",
    "    # Filtrar stopwords y tokens no alfabéticos\n",
    "    tokens_filtrados = [token for token in tokens if token.isalpha() and token not in stopwords_es]\n",
    "    data_tokenizada[key] = tokens_filtrados\n",
    "\n",
    "# data_tokenizada ahora tiene el texto tokenizado y limpio de stopwords\n",
    "\n",
    "with open(r\"C:\\Users\\michd\\Downloads\\transcripciones.json\", 'w', encoding='utf-8') as f_out:\n",
    "    json.dump(data_tokenizada, f_out, ensure_ascii=False, indent=2)\n"
   ]
  },
  {
   "cell_type": "markdown",
   "metadata": {
    "id": "i2ywrmsMP_EF"
   },
   "source": [
    "# **Ejercicio 4:**"
   ]
  },
  {
   "cell_type": "markdown",
   "metadata": {},
   "source": [
    "### <font color=\"orange\">**Extracción de palabras clave con LDA**</font>"
   ]
  },
  {
   "cell_type": "code",
   "execution_count": 14,
   "metadata": {},
   "outputs": [
    {
     "name": "stdout",
     "output_type": "stream",
     "text": [
      "Se cargaron 10 documentos tokenizados para aplicar LDA.\n",
      "\n",
      " Para la historia \u001b[1;35m21144-01\u001b[0m, se generaron las siguientes palabras clave:\n",
      "\n",
      "Índice  Palabra        Frecuencia\n",
      "-----------------------------------\n",
      "1       \u001b[36mlobo           \u001b[0m0.051\n",
      "2       \u001b[36msi             \u001b[0m0.038\n",
      "3       \u001b[36mtemplo         \u001b[0m0.038\n",
      "4       \u001b[36mcordero        \u001b[0m0.038\n",
      "5       \u001b[36mdios           \u001b[0m0.038\n",
      "6       \u001b[36mser            \u001b[0m0.038\n",
      "7       \u001b[36madentro        \u001b[0m0.025\n",
      "8       \u001b[36mdecidio        \u001b[0m0.025\n",
      "9       \u001b[36memolaria       \u001b[0m0.025\n",
      "10      \u001b[36masi            \u001b[0m0.025\n",
      "11      \u001b[36mperecer        \u001b[0m0.025\n",
      "12      \u001b[36mcolmillos      \u001b[0m0.025\n",
      "13      \u001b[36mcordelito      \u001b[0m0.025\n",
      "14      \u001b[36mcuenta         \u001b[0m0.025\n",
      "15      \u001b[36mpequeno        \u001b[0m0.025\n",
      "16      \u001b[36mcercano        \u001b[0m0.025\n",
      "17      \u001b[36mperseguido     \u001b[0m0.025\n",
      "18      \u001b[36mremedio        \u001b[0m0.025\n",
      "19      \u001b[36mrefugiarse     \u001b[0m0.025\n",
      "20      \u001b[36mdijo           \u001b[0m0.025\n",
      "21      \u001b[36mreplico        \u001b[0m0.025\n",
      "22      \u001b[36msacrificador   \u001b[0m0.025\n",
      "23      \u001b[36msacrificados   \u001b[0m0.025\n",
      "24      \u001b[36mtando          \u001b[0m0.025\n",
      "25      \u001b[36mtener          \u001b[0m0.025\n",
      "26      \u001b[36mvale           \u001b[0m0.025\n",
      "27      \u001b[36mvamos          \u001b[0m0.025\n",
      "28      \u001b[36mmayor          \u001b[0m0.025\n",
      "29      \u001b[36mprefiero       \u001b[0m0.025\n",
      "30      \u001b[36mllamo          \u001b[0m0.025\n",
      "\n",
      " Para la historia \u001b[1;35m21144-04\u001b[0m, se generaron las siguientes palabras clave:\n",
      "\n",
      "Índice  Palabra        Frecuencia\n",
      "-----------------------------------\n",
      "1       \u001b[36mhueso          \u001b[0m0.033\n",
      "2       \u001b[36mlogo           \u001b[0m0.033\n",
      "3       \u001b[36mpaga           \u001b[0m0.033\n",
      "4       \u001b[36mgrulla         \u001b[0m0.025\n",
      "5       \u001b[36mboca           \u001b[0m0.025\n",
      "6       \u001b[36mcabeza         \u001b[0m0.025\n",
      "7       \u001b[36mpidio          \u001b[0m0.025\n",
      "8       \u001b[36mhagas          \u001b[0m0.017\n",
      "9       \u001b[36mhoy            \u001b[0m0.017\n",
      "10      \u001b[36mintrodujo      \u001b[0m0.017\n",
      "11      \u001b[36mlobo           \u001b[0m0.017\n",
      "12      \u001b[36mmucha          \u001b[0m0.017\n",
      "13      \u001b[36mnunca          \u001b[0m0.017\n",
      "14      \u001b[36mpagaria        \u001b[0m0.017\n",
      "15      \u001b[36mpartes         \u001b[0m0.017\n",
      "16      \u001b[36mpues           \u001b[0m0.017\n",
      "17      \u001b[36msacando        \u001b[0m0.017\n",
      "18      \u001b[36macepto         \u001b[0m0.017\n",
      "19      \u001b[36msalvada        \u001b[0m0.017\n",
      "20      \u001b[36msalvara        \u001b[0m0.017\n",
      "21      \u001b[36msalvo          \u001b[0m0.017\n",
      "22      \u001b[36msana           \u001b[0m0.017\n",
      "23      \u001b[36msano           \u001b[0m0.017\n",
      "24      \u001b[36msi             \u001b[0m0.017\n",
      "25      \u001b[36msituacion      \u001b[0m0.017\n",
      "26      \u001b[36msuficiente     \u001b[0m0.017\n",
      "27      \u001b[36mtendrias       \u001b[0m0.017\n",
      "28      \u001b[36mtodas          \u001b[0m0.017\n",
      "29      \u001b[36msacado         \u001b[0m0.017\n",
      "30      \u001b[36mcarrera        \u001b[0m0.017\n",
      "\n",
      " Para la historia \u001b[1;35m21144-05\u001b[0m, se generaron las siguientes palabras clave:\n",
      "\n",
      "Índice  Palabra        Frecuencia\n",
      "-----------------------------------\n",
      "1       \u001b[36mcaballo        \u001b[0m0.041\n",
      "2       \u001b[36mcebada         \u001b[0m0.041\n",
      "3       \u001b[36mhabia          \u001b[0m0.031\n",
      "4       \u001b[36msi             \u001b[0m0.031\n",
      "5       \u001b[36mlobo           \u001b[0m0.031\n",
      "6       \u001b[36mcantidad       \u001b[0m0.021\n",
      "7       \u001b[36mcomentandole   \u001b[0m0.021\n",
      "8       \u001b[36mbueno          \u001b[0m0.021\n",
      "9       \u001b[36mcampo          \u001b[0m0.021\n",
      "10      \u001b[36mactuar         \u001b[0m0.021\n",
      "11      \u001b[36mhallado        \u001b[0m0.021\n",
      "12      \u001b[36mir             \u001b[0m0.021\n",
      "13      \u001b[36mllevo          \u001b[0m0.021\n",
      "14      \u001b[36mlobos          \u001b[0m0.021\n",
      "15      \u001b[36mmalvado        \u001b[0m0.021\n",
      "16      \u001b[36mmas            \u001b[0m0.021\n",
      "17      \u001b[36mmejor          \u001b[0m0.021\n",
      "18      \u001b[36mcomida         \u001b[0m0.021\n",
      "19      \u001b[36moidos          \u001b[0m0.021\n",
      "20      \u001b[36mparezca        \u001b[0m0.021\n",
      "21      \u001b[36mpasaba         \u001b[0m0.021\n",
      "22      \u001b[36mpreferido      \u001b[0m0.021\n",
      "23      \u001b[36mrato           \u001b[0m0.021\n",
      "24      \u001b[36mrepuso         \u001b[0m0.021\n",
      "25      \u001b[36mruido          \u001b[0m0.021\n",
      "26      \u001b[36msembrado       \u001b[0m0.021\n",
      "27      \u001b[36msiguio         \u001b[0m0.021\n",
      "28      \u001b[36mgran           \u001b[0m0.021\n",
      "29      \u001b[36mmasticarla     \u001b[0m0.021\n",
      "30      \u001b[36mcamino         \u001b[0m0.021\n",
      "\n",
      " Para la historia \u001b[1;35m21144-06\u001b[0m, se generaron las siguientes palabras clave:\n",
      "\n",
      "Índice  Palabra        Frecuencia\n",
      "-----------------------------------\n",
      "1       \u001b[36mlobo           \u001b[0m0.045\n",
      "2       \u001b[36mley            \u001b[0m0.027\n",
      "3       \u001b[36masno           \u001b[0m0.027\n",
      "4       \u001b[36mlegislar       \u001b[0m0.018\n",
      "5       \u001b[36miguales        \u001b[0m0.018\n",
      "6       \u001b[36mabrotado       \u001b[0m0.018\n",
      "7       \u001b[36mleyes          \u001b[0m0.018\n",
      "8       \u001b[36mllegas         \u001b[0m0.018\n",
      "9       \u001b[36mllevando       \u001b[0m0.018\n",
      "10      \u001b[36mmagnifica      \u001b[0m0.018\n",
      "11      \u001b[36mmanera         \u001b[0m0.018\n",
      "12      \u001b[36mmoviendo       \u001b[0m0.018\n",
      "13      \u001b[36mordenando      \u001b[0m0.018\n",
      "14      \u001b[36morejas         \u001b[0m0.018\n",
      "15      \u001b[36mpartes         \u001b[0m0.018\n",
      "16      \u001b[36mpoder          \u001b[0m0.018\n",
      "17      \u001b[36mprimero        \u001b[0m0.018\n",
      "18      \u001b[36mpropias        \u001b[0m0.018\n",
      "19      \u001b[36mpusiera        \u001b[0m0.018\n",
      "20      \u001b[36mrepartelo      \u001b[0m0.018\n",
      "21      \u001b[36mrepartiese     \u001b[0m0.018\n",
      "22      \u001b[36mrey            \u001b[0m0.018\n",
      "23      \u001b[36mrogo           \u001b[0m0.018\n",
      "24      \u001b[36msecretado      \u001b[0m0.018\n",
      "25      \u001b[36msi             \u001b[0m0.018\n",
      "26      \u001b[36mtambien        \u001b[0m0.018\n",
      "27      \u001b[36mtener          \u001b[0m0.018\n",
      "28      \u001b[36midea           \u001b[0m0.018\n",
      "29      \u001b[36mcomun          \u001b[0m0.018\n",
      "30      \u001b[36mcomunidad      \u001b[0m0.018\n",
      "\n",
      " Para la historia \u001b[1;35m21144-14\u001b[0m, se generaron las siguientes palabras clave:\n",
      "\n",
      "Índice  Palabra        Frecuencia\n",
      "-----------------------------------\n",
      "1       \u001b[36mlobo           \u001b[0m0.067\n",
      "2       \u001b[36msino           \u001b[0m0.050\n",
      "3       \u001b[36mcabrito        \u001b[0m0.050\n",
      "4       \u001b[36msitio          \u001b[0m0.033\n",
      "5       \u001b[36mserenamente    \u001b[0m0.033\n",
      "6       \u001b[36mseguridad      \u001b[0m0.033\n",
      "7       \u001b[36mreplico        \u001b[0m0.033\n",
      "8       \u001b[36mproveen        \u001b[0m0.033\n",
      "9       \u001b[36mprotegido      \u001b[0m0.033\n",
      "10      \u001b[36mpoderosos      \u001b[0m0.033\n",
      "11      \u001b[36mpasar          \u001b[0m0.033\n",
      "12      \u001b[36mocasion        \u001b[0m0.033\n",
      "13      \u001b[36mmenudo         \u001b[0m0.033\n",
      "14      \u001b[36mlugar          \u001b[0m0.033\n",
      "15      \u001b[36mampliamente    \u001b[0m0.033\n",
      "16      \u001b[36minsultarle     \u001b[0m0.033\n",
      "17      \u001b[36minsultando     \u001b[0m0.033\n",
      "18      \u001b[36minfeliz        \u001b[0m0.033\n",
      "19      \u001b[36menfrentamiento \u001b[0m0.033\n",
      "20      \u001b[36mencuentras     \u001b[0m0.033\n",
      "21      \u001b[36mencerrado      \u001b[0m0.033\n",
      "22      \u001b[36mcorral         \u001b[0m0.033\n",
      "23      \u001b[36mcomenzo        \u001b[0m0.033\n",
      "24      \u001b[36mcasa           \u001b[0m0.033\n",
      "25      \u001b[36mburlando       \u001b[0m0.033\n",
      "26      \u001b[36marrogante      \u001b[0m0.033\n",
      "27      \u001b[36mvalor          \u001b[0m0.033\n",
      "28      \u001b[36mvio            \u001b[0m0.033\n",
      "\n",
      " Para la historia \u001b[1;35m21144-22\u001b[0m, se generaron las siguientes palabras clave:\n",
      "\n",
      "Índice  Palabra        Frecuencia\n",
      "-----------------------------------\n",
      "1       \u001b[36mhuevos         \u001b[0m0.039\n",
      "2       \u001b[36mdijo           \u001b[0m0.039\n",
      "3       \u001b[36mperro          \u001b[0m0.039\n",
      "4       \u001b[36malmeja         \u001b[0m0.039\n",
      "5       \u001b[36mluego          \u001b[0m0.039\n",
      "6       \u001b[36mhuevo          \u001b[0m0.026\n",
      "7       \u001b[36mcreer          \u001b[0m0.026\n",
      "8       \u001b[36mcomer          \u001b[0m0.026\n",
      "9       \u001b[36mbien           \u001b[0m0.026\n",
      "10      \u001b[36matrago         \u001b[0m0.026\n",
      "11      \u001b[36masunto         \u001b[0m0.026\n",
      "12      \u001b[36mdificultades   \u001b[0m0.026\n",
      "13      \u001b[36mcreyendo       \u001b[0m0.026\n",
      "14      \u001b[36macostumbrados  \u001b[0m0.026\n",
      "15      \u001b[36minmediatamente \u001b[0m0.026\n",
      "16      \u001b[36mmerecido       \u001b[0m0.026\n",
      "17      \u001b[36mdescarradas    \u001b[0m0.026\n",
      "18      \u001b[36mnunca          \u001b[0m0.026\n",
      "19      \u001b[36mpenso          \u001b[0m0.026\n",
      "20      \u001b[36mpublico        \u001b[0m0.026\n",
      "21      \u001b[36mredondo        \u001b[0m0.026\n",
      "22      \u001b[36mreflexionar    \u001b[0m0.026\n",
      "23      \u001b[36msintio         \u001b[0m0.026\n",
      "24      \u001b[36mtome           \u001b[0m0.026\n",
      "25      \u001b[36mtrataba        \u001b[0m0.026\n",
      "26      \u001b[36mveces          \u001b[0m0.026\n",
      "27      \u001b[36mveo            \u001b[0m0.026\n",
      "28      \u001b[36mgrabacion      \u001b[0m0.026\n",
      "29      \u001b[36mmal            \u001b[0m0.026\n",
      "30      \u001b[36mentranas       \u001b[0m0.026\n",
      "\n",
      " Para la historia \u001b[1;35m21144-24\u001b[0m, se generaron las siguientes palabras clave:\n",
      "\n",
      "Índice  Palabra        Frecuencia\n",
      "-----------------------------------\n",
      "1       \u001b[36mreflejo        \u001b[0m0.054\n",
      "2       \u001b[36mperro          \u001b[0m0.043\n",
      "3       \u001b[36majeno          \u001b[0m0.043\n",
      "4       \u001b[36mrio            \u001b[0m0.043\n",
      "5       \u001b[36mpropio         \u001b[0m0.032\n",
      "6       \u001b[36mpedazo         \u001b[0m0.032\n",
      "7       \u001b[36mtrozo          \u001b[0m0.032\n",
      "8       \u001b[36mcarne          \u001b[0m0.032\n",
      "9       \u001b[36madquirido      \u001b[0m0.022\n",
      "10      \u001b[36mesfuerzo       \u001b[0m0.022\n",
      "11      \u001b[36mpuedes         \u001b[0m0.022\n",
      "12      \u001b[36magua           \u001b[0m0.022\n",
      "13      \u001b[36maquel          \u001b[0m0.022\n",
      "14      \u001b[36mbien           \u001b[0m0.022\n",
      "15      \u001b[36mcodiciese      \u001b[0m0.022\n",
      "16      \u001b[36mcreyo          \u001b[0m0.022\n",
      "17      \u001b[36mpues           \u001b[0m0.022\n",
      "18      \u001b[36mrebatar        \u001b[0m0.022\n",
      "19      \u001b[36mrealidad       \u001b[0m0.022\n",
      "20      \u001b[36mcompadre       \u001b[0m0.022\n",
      "21      \u001b[36mresultado      \u001b[0m0.022\n",
      "22      \u001b[36msabroso        \u001b[0m0.022\n",
      "23      \u001b[36msolo           \u001b[0m0.022\n",
      "24      \u001b[36msolto          \u001b[0m0.022\n",
      "25      \u001b[36msupuesto       \u001b[0m0.022\n",
      "26      \u001b[36mvadiaba        \u001b[0m0.022\n",
      "27      \u001b[36mverdadero      \u001b[0m0.022\n",
      "28      \u001b[36mnunca          \u001b[0m0.022\n",
      "29      \u001b[36mquedo          \u001b[0m0.022\n",
      "30      \u001b[36mcorriente      \u001b[0m0.022\n",
      "\n",
      " Para la historia \u001b[1;35m21144-25\u001b[0m, se generaron las siguientes palabras clave:\n",
      "\n",
      "Índice  Palabra        Frecuencia\n",
      "-----------------------------------\n",
      "1       \u001b[36mcarnicero      \u001b[0m0.051\n",
      "2       \u001b[36maccidente      \u001b[0m0.034\n",
      "3       \u001b[36msuceda         \u001b[0m0.034\n",
      "4       \u001b[36mpoder          \u001b[0m0.034\n",
      "5       \u001b[36mpensar         \u001b[0m0.034\n",
      "6       \u001b[36mpenetro        \u001b[0m0.034\n",
      "7       \u001b[36mocupado        \u001b[0m0.034\n",
      "8       \u001b[36mmirarte        \u001b[0m0.034\n",
      "9       \u001b[36mlio            \u001b[0m0.034\n",
      "10      \u001b[36mintroso        \u001b[0m0.034\n",
      "11      \u001b[36minotando       \u001b[0m0.034\n",
      "12      \u001b[36mhuir           \u001b[0m0.034\n",
      "13      \u001b[36mhoy            \u001b[0m0.034\n",
      "14      \u001b[36mhacer          \u001b[0m0.034\n",
      "15      \u001b[36mexclamo        \u001b[0m0.034\n",
      "16      \u001b[36mevitarlo       \u001b[0m0.034\n",
      "17      \u001b[36mesperes        \u001b[0m0.034\n",
      "18      \u001b[36mencuentre      \u001b[0m0.034\n",
      "19      \u001b[36mdejare         \u001b[0m0.034\n",
      "20      \u001b[36mcorriendo      \u001b[0m0.034\n",
      "21      \u001b[36mcogio          \u001b[0m0.034\n",
      "22      \u001b[36mclientes       \u001b[0m0.034\n",
      "23      \u001b[36mcarniceria     \u001b[0m0.034\n",
      "24      \u001b[36mcarne          \u001b[0m0.034\n",
      "25      \u001b[36mcanicero       \u001b[0m0.034\n",
      "26      \u001b[36mamigo          \u001b[0m0.034\n",
      "27      \u001b[36mahi            \u001b[0m0.034\n",
      "28      \u001b[36mviendole       \u001b[0m0.034\n",
      "29      \u001b[36mvolvio         \u001b[0m0.034\n",
      "\n",
      " Para la historia \u001b[1;35m21144-26\u001b[0m, se generaron las siguientes palabras clave:\n",
      "\n",
      "Índice  Palabra        Frecuencia\n",
      "-----------------------------------\n",
      "1       \u001b[36mcampanilla     \u001b[0m0.058\n",
      "2       \u001b[36mperro          \u001b[0m0.035\n",
      "3       \u001b[36mmas            \u001b[0m0.023\n",
      "4       \u001b[36mamigo          \u001b[0m0.023\n",
      "5       \u001b[36mcercana        \u001b[0m0.023\n",
      "6       \u001b[36manunciar       \u001b[0m0.023\n",
      "7       \u001b[36mavanzada       \u001b[0m0.023\n",
      "8       \u001b[36mamo            \u001b[0m0.023\n",
      "9       \u001b[36manos           \u001b[0m0.023\n",
      "10      \u001b[36mmaldado        \u001b[0m0.023\n",
      "11      \u001b[36macostumbraba   \u001b[0m0.023\n",
      "12      \u001b[36mmayores        \u001b[0m0.023\n",
      "13      \u001b[36mmismo          \u001b[0m0.023\n",
      "14      \u001b[36mmorder         \u001b[0m0.023\n",
      "15      \u001b[36mperra          \u001b[0m0.023\n",
      "16      \u001b[36mplaza          \u001b[0m0.023\n",
      "17      \u001b[36mpresencia      \u001b[0m0.023\n",
      "18      \u001b[36mpresumes       \u001b[0m0.023\n",
      "19      \u001b[36mpresumir       \u001b[0m0.023\n",
      "20      \u001b[36mpublica        \u001b[0m0.023\n",
      "21      \u001b[36mpuso           \u001b[0m0.023\n",
      "22      \u001b[36mrazon          \u001b[0m0.023\n",
      "23      \u001b[36msabia          \u001b[0m0.023\n",
      "24      \u001b[36msi             \u001b[0m0.023\n",
      "25      \u001b[36msino           \u001b[0m0.023\n",
      "26      \u001b[36msolo           \u001b[0m0.023\n",
      "27      \u001b[36msonando        \u001b[0m0.023\n",
      "28      \u001b[36mllevas         \u001b[0m0.023\n",
      "29      \u001b[36mculta          \u001b[0m0.023\n",
      "30      \u001b[36malagos         \u001b[0m0.023\n",
      "\n",
      " Para la historia \u001b[1;35m21144-27\u001b[0m, se generaron las siguientes palabras clave:\n",
      "\n",
      "Índice  Palabra        Frecuencia\n",
      "-----------------------------------\n",
      "1       \u001b[36mleon           \u001b[0m0.072\n",
      "2       \u001b[36mperro          \u001b[0m0.072\n",
      "3       \u001b[36mperseguia      \u001b[0m0.043\n",
      "4       \u001b[36mafrontar       \u001b[0m0.029\n",
      "5       \u001b[36mtemorizado     \u001b[0m0.029\n",
      "6       \u001b[36msurgidos       \u001b[0m0.029\n",
      "7       \u001b[36msoporta        \u001b[0m0.029\n",
      "8       \u001b[36msiquiera       \u001b[0m0.029\n",
      "9       \u001b[36msiempre        \u001b[0m0.029\n",
      "10      \u001b[36msan            \u001b[0m0.029\n",
      "11      \u001b[36mrugiendo       \u001b[0m0.029\n",
      "12      \u001b[36mretrocedio     \u001b[0m0.029\n",
      "13      \u001b[36mrapidamente    \u001b[0m0.029\n",
      "14      \u001b[36mprimero        \u001b[0m0.029\n",
      "15      \u001b[36mpersecucion    \u001b[0m0.029\n",
      "16      \u001b[36mpartio         \u001b[0m0.029\n",
      "17      \u001b[36mmismo          \u001b[0m0.029\n",
      "18      \u001b[36mmantente       \u001b[0m0.029\n",
      "19      \u001b[36mlisto          \u001b[0m0.029\n",
      "20      \u001b[36minfeliz        \u001b[0m0.029\n",
      "21      \u001b[36mimprevistos    \u001b[0m0.029\n",
      "22      \u001b[36mimaginabas     \u001b[0m0.029\n",
      "23      \u001b[36mentres         \u001b[0m0.029\n",
      "24      \u001b[36mencontro       \u001b[0m0.029\n",
      "25      \u001b[36mempresa        \u001b[0m0.029\n",
      "26      \u001b[36mdijo           \u001b[0m0.029\n",
      "27      \u001b[36mcasas          \u001b[0m0.029\n",
      "28      \u001b[36mcamino         \u001b[0m0.029\n",
      "29      \u001b[36mvio            \u001b[0m0.029\n",
      "30      \u001b[36mvolvio         \u001b[0m0.029\n"
     ]
    }
   ],
   "source": [
    "# Cargar datos tokenizados desde el archivo JSON\n",
    "with open(r\"C:\\Users\\michd\\Downloads\\transcripciones.json\", 'r', encoding='utf-8') as file:\n",
    "    tokenized_audios = json.load(file)\n",
    "\n",
    "print(f\"Se cargaron {len(tokenized_audios)} documentos tokenizados para aplicar LDA.\")\n",
    "\n",
    "#Diccionario para almacenar los temas generados por el análisis LDA\n",
    "lda_topics = {}\n",
    "\n",
    "#Aplicar LDA a cada documento individualmente\n",
    "for story_name, tokens in tokenized_audios.items():\n",
    "    tokens = [tokens]  # LDA requiere una lista de documentos, incluso si es solo uno\n",
    "\n",
    "    # Crear diccionario de términos\n",
    "    term_dictionary = corpora.Dictionary(tokens)\n",
    "\n",
    "    #Convertir texto a representación Bag of Words (BOW)\n",
    "    bow_corpus = [term_dictionary.doc2bow(doc) for doc in tokens]\n",
    "\n",
    "    # Entrenar modelo LDA con un único tema\n",
    "    lda_model = LdaModel(corpus=bow_corpus, num_topics=1, id2word=term_dictionary, passes=100)\n",
    "\n",
    "    #Obtener las 20 palabras más representativas del tema\n",
    "    key_terms = lda_model.show_topics(num_words=30)\n",
    "\n",
    "    #Guardar los términos como una cadena en el diccionario de resultados\n",
    "    lda_topics[story_name] = key_terms[0][1]\n",
    "\n",
    "# Visualizar los resultados en formato tabular\n",
    "for story_name, topic in lda_topics.items():\n",
    "    print(f'\\n Para la historia \\033[1;35m{story_name}\\033[0m, se generaron las siguientes palabras clave:\\n')\n",
    "\n",
    "    # Extraer pares de peso-palabra usando expresiones regulares\n",
    "    extracted_pairs = re.findall(r'([\\d\\.]+)\\*\"(.*?)\"', topic)\n",
    "    formatted_data = [(word, float(weight)) for weight, word in extracted_pairs]\n",
    "\n",
    "    # Imprimir datos en formato de tabla con índices\n",
    "    print(f\"{'Índice':<8}{'Palabra':<15}{'Frecuencia'}\")\n",
    "    print(\"-\" * 35)\n",
    "    for i, (word, frequency) in enumerate(formatted_data, start=1):\n",
    "        print(f\"{i:<8}\\033[36m{word:<15}\\033[0m{frequency:.3f}\")"
   ]
  },
  {
   "cell_type": "markdown",
   "metadata": {},
   "source": [
    "### <font color=\"orange\">**Guardar en JSON y graficar**</font>"
   ]
  },
  {
   "cell_type": "code",
   "execution_count": 15,
   "metadata": {},
   "outputs": [
    {
     "name": "stdout",
     "output_type": "stream",
     "text": [
      "Análisis LDA guardado en 'lda_topics.json'\n"
     ]
    },
    {
     "data": {
      "image/png": "[encoded data removed]",
      "text/plain": [
       "<Figure size 1200x600 with 1 Axes>"
      ]
     },
     "metadata": {},
     "output_type": "display_data"
    }
   ],
   "source": [
    "# Guardar el resultado del análisis LDA en un archivo JSON\n",
    "with open(\"lda_topics.json\", \"w\", encoding=\"utf-8\") as output_file:\n",
    "    json.dump(lda_topics, output_file, ensure_ascii=False, indent=2)\n",
    "\n",
    "print(\"Análisis LDA guardado en 'lda_topics.json'\")\n",
    "\n",
    "# Convertimos los datos en una estructura tabular para análisis global\n",
    "lda_data = []\n",
    "for story_name, key_terms in lda_topics.items():\n",
    "    # Separar los términos y sus pesos desde el formato LDA\n",
    "    term_list = key_terms.split(\"+\")\n",
    "    for term_entry in term_list:\n",
    "        if \"*\" in term_entry:\n",
    "            weight, term = term_entry.strip().split(\"*\")\n",
    "            lda_data.append([story_name, term.strip('\"'), float(weight)])\n",
    "\n",
    "# Crear un DataFrame con los términos y pesos\n",
    "lda_df = pd.DataFrame(lda_data, columns=[\"Story\", \"Keyword\", \"Weight\"])\n",
    "\n",
    "# Agrupar palabras por su peso acumulado y seleccionar las más representativas\n",
    "aggregated_df = lda_df.groupby(\"Keyword\")[\"Weight\"].sum().reset_index()\n",
    "sorted_keywords = aggregated_df.sort_values(by=\"Weight\", ascending=False)[:30]\n",
    "\n",
    "# Aplicar un estilo visual\n",
    "plt.style.use('ggplot')  # Otros estilos: 'seaborn-darkgrid', 'seaborn-white', 'classic', 'dark_background'\n",
    "\n",
    "# Ajustar paleta de colores y gráfico de barras\n",
    "colors = sns.color_palette(\"magma\", len(sorted_keywords))\n",
    "plt.figure(figsize=(12, 6))\n",
    "plt.barh(sorted_keywords[\"Keyword\"], sorted_keywords[\"Weight\"], color=colors)\n",
    "plt.xlabel(\"Total Weight\", fontsize=12, fontweight='bold')\n",
    "plt.ylabel(\"Palabra clave\", fontsize=12, fontweight='bold')\n",
    "plt.title(\"Distribucion (Top 30)\", fontsize=14, fontweight='bold')\n",
    "plt.gca().invert_yaxis()\n",
    "plt.grid(axis='x', linestyle=':', alpha=0.5)\n",
    "plt.show()"
   ]
  },
  {
   "cell_type": "markdown",
   "metadata": {
    "id": "Blrrs1sWwkSx"
   },
   "source": [
    "# **Ejercicio 5a y 5b:**"
   ]
  },
  {
   "cell_type": "markdown",
   "metadata": {
    "id": "gWvzQ-aNwsVk"
   },
   "source": [
    "* #### **5a: Mediante el LLM que hayan seleccionado, generar un único enunciado que describa o resuma cada fábula.**\n",
    "\n",
    "* #### **5b: Mediante el LLM que hayan seleccionado, generar tres posibles enunciados diferentes relacionados con la historia de la fábula.**\n",
    "\n",
    "* #### **Sugerencia:** En realidad los dos incisos a y b se pueden obtener con un solo prompt que solicite la información y el formato correspondiente para cada una de estas partes. Por ejemplo, para cada fábula la salida puede ser un primer enunciado genérico que resume o describe dicha temática; seguido de tres enunciados, cada uno hablando sobre una situación o parte diferente de la fábula."
   ]
  },
  {
   "cell_type": "markdown",
   "metadata": {},
   "source": [
    "### <font color=\"orange\">**Importación de librerias**</font>"
   ]
  },
  {
   "cell_type": "code",
   "execution_count": 16,
   "metadata": {},
   "outputs": [
    {
     "name": "stdout",
     "output_type": "stream",
     "text": [
      "Requirement already satisfied: ctransformers in c:\\users\\michd\\appdata\\local\\programs\\python\\python312\\lib\\site-packages (0.2.27)\n",
      "Requirement already satisfied: huggingface-hub in c:\\users\\michd\\appdata\\local\\programs\\python\\python312\\lib\\site-packages (from ctransformers) (0.32.4)\n",
      "Requirement already satisfied: py-cpuinfo<10.0.0,>=9.0.0 in c:\\users\\michd\\appdata\\local\\programs\\python\\python312\\lib\\site-packages (from ctransformers) (9.0.0)\n",
      "Requirement already satisfied: filelock in c:\\users\\michd\\appdata\\local\\programs\\python\\python312\\lib\\site-packages (from huggingface-hub->ctransformers) (3.18.0)\n",
      "Requirement already satisfied: fsspec>=2023.5.0 in c:\\users\\michd\\appdata\\local\\programs\\python\\python312\\lib\\site-packages (from huggingface-hub->ctransformers) (2025.5.1)\n",
      "Requirement already satisfied: packaging>=20.9 in c:\\users\\michd\\appdata\\local\\programs\\python\\python312\\lib\\site-packages (from huggingface-hub->ctransformers) (25.0)\n",
      "Requirement already satisfied: pyyaml>=5.1 in c:\\users\\michd\\appdata\\local\\programs\\python\\python312\\lib\\site-packages (from huggingface-hub->ctransformers) (6.0.2)\n",
      "Requirement already satisfied: requests in c:\\users\\michd\\appdata\\local\\programs\\python\\python312\\lib\\site-packages (from huggingface-hub->ctransformers) (2.32.3)\n",
      "Requirement already satisfied: tqdm>=4.42.1 in c:\\users\\michd\\appdata\\local\\programs\\python\\python312\\lib\\site-packages (from huggingface-hub->ctransformers) (4.67.1)\n",
      "Requirement already satisfied: typing-extensions>=3.7.4.3 in c:\\users\\michd\\appdata\\local\\programs\\python\\python312\\lib\\site-packages (from huggingface-hub->ctransformers) (4.14.0)\n",
      "Requirement already satisfied: colorama in c:\\users\\michd\\appdata\\local\\programs\\python\\python312\\lib\\site-packages (from tqdm>=4.42.1->huggingface-hub->ctransformers) (0.4.6)\n",
      "Requirement already satisfied: charset-normalizer<4,>=2 in c:\\users\\michd\\appdata\\local\\programs\\python\\python312\\lib\\site-packages (from requests->huggingface-hub->ctransformers) (3.4.2)\n",
      "Requirement already satisfied: idna<4,>=2.5 in c:\\users\\michd\\appdata\\local\\programs\\python\\python312\\lib\\site-packages (from requests->huggingface-hub->ctransformers) (3.10)\n",
      "Requirement already satisfied: urllib3<3,>=1.21.1 in c:\\users\\michd\\appdata\\local\\programs\\python\\python312\\lib\\site-packages (from requests->huggingface-hub->ctransformers) (2.4.0)\n",
      "Requirement already satisfied: certifi>=2017.4.17 in c:\\users\\michd\\appdata\\local\\programs\\python\\python312\\lib\\site-packages (from requests->huggingface-hub->ctransformers) (2025.4.26)\n",
      "Requirement already satisfied: llama-cpp-python in c:\\users\\michd\\appdata\\local\\programs\\python\\python312\\lib\\site-packages (0.3.9)\n",
      "Requirement already satisfied: typing-extensions>=4.5.0 in c:\\users\\michd\\appdata\\local\\programs\\python\\python312\\lib\\site-packages (from llama-cpp-python) (4.14.0)\n",
      "Requirement already satisfied: numpy>=1.20.0 in c:\\users\\michd\\appdata\\local\\programs\\python\\python312\\lib\\site-packages (from llama-cpp-python) (1.26.4)\n",
      "Requirement already satisfied: diskcache>=5.6.1 in c:\\users\\michd\\appdata\\local\\programs\\python\\python312\\lib\\site-packages (from llama-cpp-python) (5.6.3)\n",
      "Requirement already satisfied: jinja2>=2.11.3 in c:\\users\\michd\\appdata\\local\\programs\\python\\python312\\lib\\site-packages (from llama-cpp-python) (3.1.4)\n",
      "Requirement already satisfied: MarkupSafe>=2.0 in c:\\users\\michd\\appdata\\local\\programs\\python\\python312\\lib\\site-packages (from jinja2>=2.11.3->llama-cpp-python) (2.1.5)\n"
     ]
    }
   ],
   "source": [
    "# Incluyan a continuación todas las celdas (de código o texto) que deseen...\n",
    "\n",
    "!pip install ctransformers\n",
    "!pip install llama-cpp-python"
   ]
  },
  {
   "cell_type": "markdown",
   "metadata": {},
   "source": [
    "### <font color=\"orange\">**Generar enunciado y subtemas con palabras clave**</font>"
   ]
  },
  {
   "cell_type": "code",
   "execution_count": 17,
   "metadata": {},
   "outputs": [
    {
     "name": "stdout",
     "output_type": "stream",
     "text": [
      "=== FÁBULA: 21144-01 ===\n",
      "\n",
      "Resumen: En el templo, se sacrifica un cordero a dios al ser perseguido por un lobo. El sacrificador cuenta con que tener los colmillos del lobo valen mucho en su labor como criador de cabras en caso de ser atacado por otro lobo y querer escapar.\n",
      "\n",
      "1. Sacrificio\n",
      "2. Terror\n",
      "3. Adaptación\n",
      "============================================================\n"
     ]
    },
    {
     "name": "stderr",
     "output_type": "stream",
     "text": [
      "Number of tokens (513) exceeded maximum context length (512).\n",
      "Number of tokens (514) exceeded maximum context length (512).\n",
      "Number of tokens (515) exceeded maximum context length (512).\n",
      "Number of tokens (516) exceeded maximum context length (512).\n",
      "Number of tokens (517) exceeded maximum context length (512).\n",
      "Number of tokens (518) exceeded maximum context length (512).\n",
      "Number of tokens (519) exceeded maximum context length (512).\n",
      "Number of tokens (520) exceeded maximum context length (512).\n",
      "Number of tokens (521) exceeded maximum context length (512).\n",
      "Number of tokens (522) exceeded maximum context length (512).\n",
      "Number of tokens (523) exceeded maximum context length (512).\n",
      "Number of tokens (524) exceeded maximum context length (512).\n",
      "Number of tokens (525) exceeded maximum context length (512).\n",
      "Number of tokens (526) exceeded maximum context length (512).\n",
      "Number of tokens (527) exceeded maximum context length (512).\n",
      "Number of tokens (528) exceeded maximum context length (512).\n",
      "Number of tokens (529) exceeded maximum context length (512).\n",
      "Number of tokens (530) exceeded maximum context length (512).\n",
      "Number of tokens (531) exceeded maximum context length (512).\n",
      "Number of tokens (532) exceeded maximum context length (512).\n",
      "Number of tokens (533) exceeded maximum context length (512).\n",
      "Number of tokens (534) exceeded maximum context length (512).\n",
      "Number of tokens (535) exceeded maximum context length (512).\n",
      "Number of tokens (536) exceeded maximum context length (512).\n",
      "Number of tokens (537) exceeded maximum context length (512).\n",
      "Number of tokens (538) exceeded maximum context length (512).\n",
      "Number of tokens (539) exceeded maximum context length (512).\n",
      "Number of tokens (540) exceeded maximum context length (512).\n",
      "Number of tokens (541) exceeded maximum context length (512).\n",
      "Number of tokens (542) exceeded maximum context length (512).\n",
      "Number of tokens (543) exceeded maximum context length (512).\n",
      "Number of tokens (544) exceeded maximum context length (512).\n",
      "Number of tokens (545) exceeded maximum context length (512).\n",
      "Number of tokens (546) exceeded maximum context length (512).\n",
      "Number of tokens (547) exceeded maximum context length (512).\n",
      "Number of tokens (548) exceeded maximum context length (512).\n",
      "Number of tokens (549) exceeded maximum context length (512).\n",
      "Number of tokens (550) exceeded maximum context length (512).\n",
      "Number of tokens (551) exceeded maximum context length (512).\n",
      "Number of tokens (552) exceeded maximum context length (512).\n",
      "Number of tokens (553) exceeded maximum context length (512).\n"
     ]
    },
    {
     "name": "stdout",
     "output_type": "stream",
     "text": [
      "=== FÁBULA: 21144-04 ===\n",
      "\n",
      "    Resumen: El lobo, que había sido sacado de la jungla y llevado a la ciudad, estaba causando mucha gente sería con sus grullas y boca. Hoy, introdujo el hueso al mundo y pidió que pagara para tenerlo como trofeo. Algunos se negaron y el lobo puchó a uno de ellos. La cabeza del hombre fue cortada y llevada a la boca del lobo, donde se la comió junto con los huesos. El lobo pidió más huesos y las personas dieron dinero para tenerlos. Un día, una niña ingresó a la casa del lobo y le dio dos huesos por sus perros. La cabeza de la niña fue cortada y llevada al hombre donde fue comida en boca.\n",
      "    1. El tema principal es la fama del lobo.\n",
      "    2. Los hueso el tema. La historia de la importancia al otro subtemaño se discutor que causar un tema) El tema El tema) El tema.\n",
      "============================================================\n",
      "=== FÁBULA: 21144-05 ===\n",
      "\n",
      "    Resumen: El lobo, que había comido un buen campo de caballos, se le preguntó si podía ir con más lobos y si prefería comer ratos o masticarla. Cuando llegó al campo, encontró a un cebado lleno de caballos. Al comentarle a los lobos lo que había visto, preguntó qué preferían comer y repuso en varios ratos. Luego irá más ruidoso en busca de ratos en ese campo.\n",
      "    1. La relación entre el lobo y sus preferencias culinarias.\n",
      "    2. El uso del cebado como un lugar para encontrar comida.\n",
      "    3. El comportamiento del lobo cuando se le ofrece alcoholes o otras bebidas que están llenos de ratos.\n",
      "============================================================\n"
     ]
    },
    {
     "name": "stderr",
     "output_type": "stream",
     "text": [
      "Number of tokens (513) exceeded maximum context length (512).\n",
      "Number of tokens (514) exceeded maximum context length (512).\n",
      "Number of tokens (515) exceeded maximum context length (512).\n",
      "Number of tokens (516) exceeded maximum context length (512).\n",
      "Number of tokens (517) exceeded maximum context length (512).\n",
      "Number of tokens (518) exceeded maximum context length (512).\n",
      "Number of tokens (519) exceeded maximum context length (512).\n",
      "Number of tokens (520) exceeded maximum context length (512).\n",
      "Number of tokens (521) exceeded maximum context length (512).\n",
      "Number of tokens (522) exceeded maximum context length (512).\n",
      "Number of tokens (523) exceeded maximum context length (512).\n",
      "Number of tokens (524) exceeded maximum context length (512).\n",
      "Number of tokens (525) exceeded maximum context length (512).\n",
      "Number of tokens (526) exceeded maximum context length (512).\n",
      "Number of tokens (527) exceeded maximum context length (512).\n",
      "Number of tokens (528) exceeded maximum context length (512).\n",
      "Number of tokens (529) exceeded maximum context length (512).\n",
      "Number of tokens (530) exceeded maximum context length (512).\n"
     ]
    },
    {
     "name": "stdout",
     "output_type": "stream",
     "text": [
      "=== FÁBULA: 21144-06 ===\n",
      "\n",
      "    Resumen: Los asnos llevan el poder del rey y pueden decir cosas y hacer cosas que el rey no puede hacer. Pero cuando le ordena algo a las orejas, este no quiere seguir sus mandatos, pero por algunos días más se lo deja hacer. Al final, la ley es abrotada y el consejo legislar es convocado. Durante este tiempo, el rey le pide al consejo legislar que repartiese la fuerza entre los asnos como para garantizar su seguridad y que pusiera en orden las partes que el consejo legislar estuvo dejando atrás. Pero no lo hacen y se vuelven a ir por su cuenta. En este momento, el rey decide repartir la fuerza entre los asnos y se encargó de ello personalmente.\n",
      "    1. Poder del rey: Los asnos tienen más poder que el rey debido a que pueden decir sus hablar sus orejas su capacidades.\n",
      "   \n",
      "``\n",
      "============================================================\n"
     ]
    },
    {
     "name": "stderr",
     "output_type": "stream",
     "text": [
      "Number of tokens (513) exceeded maximum context length (512).\n",
      "Number of tokens (514) exceeded maximum context length (512).\n",
      "Number of tokens (515) exceeded maximum context length (512).\n",
      "Number of tokens (516) exceeded maximum context length (512).\n",
      "Number of tokens (517) exceeded maximum context length (512).\n",
      "Number of tokens (518) exceeded maximum context length (512).\n",
      "Number of tokens (519) exceeded maximum context length (512).\n",
      "Number of tokens (520) exceeded maximum context length (512).\n",
      "Number of tokens (521) exceeded maximum context length (512).\n",
      "Number of tokens (522) exceeded maximum context length (512).\n",
      "Number of tokens (523) exceeded maximum context length (512).\n",
      "Number of tokens (524) exceeded maximum context length (512).\n",
      "Number of tokens (525) exceeded maximum context length (512).\n",
      "Number of tokens (526) exceeded maximum context length (512).\n",
      "Number of tokens (527) exceeded maximum context length (512).\n",
      "Number of tokens (528) exceeded maximum context length (512).\n",
      "Number of tokens (529) exceeded maximum context length (512).\n",
      "Number of tokens (530) exceeded maximum context length (512).\n",
      "Number of tokens (531) exceeded maximum context length (512).\n",
      "Number of tokens (532) exceeded maximum context length (512).\n",
      "Number of tokens (533) exceeded maximum context length (512).\n",
      "Number of tokens (534) exceeded maximum context length (512).\n",
      "Number of tokens (535) exceeded maximum context length (512).\n",
      "Number of tokens (536) exceeded maximum context length (512).\n",
      "Number of tokens (537) exceeded maximum context length (512).\n",
      "Number of tokens (538) exceeded maximum context length (512).\n",
      "Number of tokens (539) exceeded maximum context length (512).\n",
      "Number of tokens (540) exceeded maximum context length (512).\n",
      "Number of tokens (541) exceeded maximum context length (512).\n",
      "Number of tokens (542) exceeded maximum context length (512).\n",
      "Number of tokens (543) exceeded maximum context length (512).\n",
      "Number of tokens (544) exceeded maximum context length (512).\n",
      "Number of tokens (545) exceeded maximum context length (512).\n",
      "Number of tokens (546) exceeded maximum context length (512).\n",
      "Number of tokens (547) exceeded maximum context length (512).\n",
      "Number of tokens (548) exceeded maximum context length (512).\n",
      "Number of tokens (549) exceeded maximum context length (512).\n",
      "Number of tokens (550) exceeded maximum context length (512).\n"
     ]
    },
    {
     "name": "stdout",
     "output_type": "stream",
     "text": [
      "=== FÁBULA: 21144-14 ===\n",
      "\n",
      "    Resumen: El lobo, que se había encontrado con un cabrito en un sitio sin repercusiones, lo ha hecho corral y ahora no lo dejaba pasar libremente, ni podía protegerlo de los poderosos predadores del lugar. Al llegar una ocasion en la que el cabrito estaba encerrado y estaba amenazando con ser maltratado por sus guardias, el lobo, como amigo de la casa, intervino y salvó al cabrito.\n",
      "    1. El problema que enfrenta el lobo es que se ha vuelto arrogante, lo cual le impide pasar libremente y proteger a su amigo del cabrito.\n",
      "    2. Los poderosos predadores en el lugar representan un peligro para la seguridad del cabrito y otros animales que se encuentran allí.\n",
      "    3. El lobo demuestra su valor al intervenir para proteger a al cabrito al cabrito al cabrito al cabrito al cabrito al cabrito al cabrito a la comien al cabrito al cabrito al cabrito al cabrito\n",
      "============================================================\n"
     ]
    },
    {
     "name": "stderr",
     "output_type": "stream",
     "text": [
      "Number of tokens (513) exceeded maximum context length (512).\n",
      "Number of tokens (514) exceeded maximum context length (512).\n",
      "Number of tokens (515) exceeded maximum context length (512).\n",
      "Number of tokens (516) exceeded maximum context length (512).\n",
      "Number of tokens (517) exceeded maximum context length (512).\n",
      "Number of tokens (518) exceeded maximum context length (512).\n",
      "Number of tokens (519) exceeded maximum context length (512).\n",
      "Number of tokens (520) exceeded maximum context length (512).\n",
      "Number of tokens (521) exceeded maximum context length (512).\n",
      "Number of tokens (522) exceeded maximum context length (512).\n",
      "Number of tokens (523) exceeded maximum context length (512).\n",
      "Number of tokens (524) exceeded maximum context length (512).\n",
      "Number of tokens (525) exceeded maximum context length (512).\n",
      "Number of tokens (526) exceeded maximum context length (512).\n",
      "Number of tokens (527) exceeded maximum context length (512).\n",
      "Number of tokens (528) exceeded maximum context length (512).\n",
      "Number of tokens (529) exceeded maximum context length (512).\n",
      "Number of tokens (530) exceeded maximum context length (512).\n",
      "Number of tokens (531) exceeded maximum context length (512).\n",
      "Number of tokens (532) exceeded maximum context length (512).\n",
      "Number of tokens (533) exceeded maximum context length (512).\n",
      "Number of tokens (534) exceeded maximum context length (512).\n",
      "Number of tokens (535) exceeded maximum context length (512).\n",
      "Number of tokens (536) exceeded maximum context length (512).\n",
      "Number of tokens (537) exceeded maximum context length (512).\n",
      "Number of tokens (538) exceeded maximum context length (512).\n",
      "Number of tokens (539) exceeded maximum context length (512).\n",
      "Number of tokens (540) exceeded maximum context length (512).\n",
      "Number of tokens (541) exceeded maximum context length (512).\n",
      "Number of tokens (542) exceeded maximum context length (512).\n",
      "Number of tokens (543) exceeded maximum context length (512).\n",
      "Number of tokens (544) exceeded maximum context length (512).\n",
      "Number of tokens (545) exceeded maximum context length (512).\n",
      "Number of tokens (546) exceeded maximum context length (512).\n",
      "Number of tokens (547) exceeded maximum context length (512).\n",
      "Number of tokens (548) exceeded maximum context length (512).\n",
      "Number of tokens (549) exceeded maximum context length (512).\n",
      "Number of tokens (550) exceeded maximum context length (512).\n",
      "Number of tokens (551) exceeded maximum context length (512).\n",
      "Number of tokens (552) exceeded maximum context length (512).\n",
      "Number of tokens (553) exceeded maximum context length (512).\n",
      "Number of tokens (554) exceeded maximum context length (512).\n",
      "Number of tokens (555) exceeded maximum context length (512).\n",
      "Number of tokens (556) exceeded maximum context length (512).\n",
      "Number of tokens (557) exceeded maximum context length (512).\n"
     ]
    },
    {
     "name": "stdout",
     "output_type": "stream",
     "text": [
      "=== FÁBULA: 21144-22 ===\n",
      "----------\n",
      "    Resumen: En un día, el perro de una mujer comió un huevo y se enfermó. Luego ella trató de comerlo pero no lo pudo. Pero luego, el perro se recuperó gracias a que ella le dio un huevo fresco de su almeja.\n",
      "    1. La importancia de mantener a los animales sanos y bien alimentados en base al ejemplo del perro y la mujer.\n",
      "    2. El valor de tener una buena relación con los animales domésticos, como se muestra en la fábula por el amor y el cuidado que la mujer le demuestra al perro.\n",
      "    3. La necesidad de reflexionar sobre nuestros comportamientos y hábitos, ya que siempre hay malas decisiones y situaciones desfavorables (perdidas) pero con las cualquien con los que pueden surgidas. En esta puede aparte de las que pueden dar lugar en la mujerespectadas que podemos en nuestas que pueden salpicocundecu\n",
      "============================================================\n"
     ]
    },
    {
     "name": "stderr",
     "output_type": "stream",
     "text": [
      "Number of tokens (513) exceeded maximum context length (512).\n",
      "Number of tokens (514) exceeded maximum context length (512).\n",
      "Number of tokens (515) exceeded maximum context length (512).\n",
      "Number of tokens (516) exceeded maximum context length (512).\n",
      "Number of tokens (517) exceeded maximum context length (512).\n",
      "Number of tokens (518) exceeded maximum context length (512).\n",
      "Number of tokens (519) exceeded maximum context length (512).\n",
      "Number of tokens (520) exceeded maximum context length (512).\n",
      "Number of tokens (521) exceeded maximum context length (512).\n",
      "Number of tokens (522) exceeded maximum context length (512).\n",
      "Number of tokens (523) exceeded maximum context length (512).\n",
      "Number of tokens (524) exceeded maximum context length (512).\n",
      "Number of tokens (525) exceeded maximum context length (512).\n",
      "Number of tokens (526) exceeded maximum context length (512).\n",
      "Number of tokens (527) exceeded maximum context length (512).\n",
      "Number of tokens (528) exceeded maximum context length (512).\n",
      "Number of tokens (529) exceeded maximum context length (512).\n",
      "Number of tokens (530) exceeded maximum context length (512).\n",
      "Number of tokens (531) exceeded maximum context length (512).\n",
      "Number of tokens (532) exceeded maximum context length (512).\n",
      "Number of tokens (533) exceeded maximum context length (512).\n",
      "Number of tokens (534) exceeded maximum context length (512).\n",
      "Number of tokens (535) exceeded maximum context length (512).\n",
      "Number of tokens (536) exceeded maximum context length (512).\n",
      "Number of tokens (537) exceeded maximum context length (512).\n",
      "Number of tokens (538) exceeded maximum context length (512).\n",
      "Number of tokens (539) exceeded maximum context length (512).\n",
      "Number of tokens (540) exceeded maximum context length (512).\n",
      "Number of tokens (541) exceeded maximum context length (512).\n",
      "Number of tokens (542) exceeded maximum context length (512).\n",
      "Number of tokens (543) exceeded maximum context length (512).\n",
      "Number of tokens (544) exceeded maximum context length (512).\n",
      "Number of tokens (545) exceeded maximum context length (512).\n",
      "Number of tokens (546) exceeded maximum context length (512).\n",
      "Number of tokens (547) exceeded maximum context length (512).\n",
      "Number of tokens (548) exceeded maximum context length (512).\n",
      "Number of tokens (549) exceeded maximum context length (512).\n",
      "Number of tokens (550) exceeded maximum context length (512).\n",
      "Number of tokens (551) exceeded maximum context length (512).\n",
      "Number of tokens (552) exceeded maximum context length (512).\n",
      "Number of tokens (553) exceeded maximum context length (512).\n",
      "Number of tokens (554) exceeded maximum context length (512).\n",
      "Number of tokens (555) exceeded maximum context length (512).\n",
      "Number of tokens (556) exceeded maximum context length (512).\n",
      "Number of tokens (557) exceeded maximum context length (512).\n",
      "Number of tokens (558) exceeded maximum context length (512).\n",
      "Number of tokens (559) exceeded maximum context length (512).\n",
      "Number of tokens (560) exceeded maximum context length (512).\n"
     ]
    },
    {
     "name": "stdout",
     "output_type": "stream",
     "text": [
      "=== FÁBULA: 21144-24 ===\n",
      "\n",
      "    Resumen:\n",
      "        Durante la época en que se desarrolló la historia, en una rioja del país de los perros, había un perro que vivía solo y solto, en un pedazo de tierra a la orilla del río. Una mañana, al llegar el cervantes, vio su propio reflejo en el agua del río y decidió desviarse de la carretera para ver si podía conseguirlo. Después del rebanado de los riesgos y la creación de varios esfuerzos de pesquisas, el cervantes finalmente pudo capturar su propio reflejo en un pedazo de carne que lo convirtió en un pejón suave y sabroso.\n",
      "    1. Los subtema 1 de la fábula \"21144-24\" son la lucha del cientreza entre el perenne entre el cientreza del protagonizada bénta por el cerva entre el cerva entre el cientreza con la cientrela de la carnalidad\n",
      "============================================================\n"
     ]
    },
    {
     "name": "stderr",
     "output_type": "stream",
     "text": [
      "Number of tokens (513) exceeded maximum context length (512).\n",
      "Number of tokens (514) exceeded maximum context length (512).\n",
      "Number of tokens (515) exceeded maximum context length (512).\n",
      "Number of tokens (516) exceeded maximum context length (512).\n",
      "Number of tokens (517) exceeded maximum context length (512).\n",
      "Number of tokens (518) exceeded maximum context length (512).\n",
      "Number of tokens (519) exceeded maximum context length (512).\n",
      "Number of tokens (520) exceeded maximum context length (512).\n",
      "Number of tokens (521) exceeded maximum context length (512).\n",
      "Number of tokens (522) exceeded maximum context length (512).\n",
      "Number of tokens (523) exceeded maximum context length (512).\n",
      "Number of tokens (524) exceeded maximum context length (512).\n",
      "Number of tokens (525) exceeded maximum context length (512).\n",
      "Number of tokens (526) exceeded maximum context length (512).\n",
      "Number of tokens (527) exceeded maximum context length (512).\n",
      "Number of tokens (528) exceeded maximum context length (512).\n",
      "Number of tokens (529) exceeded maximum context length (512).\n",
      "Number of tokens (530) exceeded maximum context length (512).\n",
      "Number of tokens (531) exceeded maximum context length (512).\n",
      "Number of tokens (532) exceeded maximum context length (512).\n",
      "Number of tokens (533) exceeded maximum context length (512).\n",
      "Number of tokens (534) exceeded maximum context length (512).\n",
      "Number of tokens (535) exceeded maximum context length (512).\n",
      "Number of tokens (536) exceeded maximum context length (512).\n",
      "Number of tokens (537) exceeded maximum context length (512).\n",
      "Number of tokens (538) exceeded maximum context length (512).\n",
      "Number of tokens (539) exceeded maximum context length (512).\n",
      "Number of tokens (540) exceeded maximum context length (512).\n",
      "Number of tokens (541) exceeded maximum context length (512).\n",
      "Number of tokens (542) exceeded maximum context length (512).\n",
      "Number of tokens (543) exceeded maximum context length (512).\n",
      "Number of tokens (544) exceeded maximum context length (512).\n",
      "Number of tokens (545) exceeded maximum context length (512).\n",
      "Number of tokens (546) exceeded maximum context length (512).\n",
      "Number of tokens (547) exceeded maximum context length (512).\n",
      "Number of tokens (548) exceeded maximum context length (512).\n",
      "Number of tokens (549) exceeded maximum context length (512).\n",
      "Number of tokens (550) exceeded maximum context length (512).\n",
      "Number of tokens (551) exceeded maximum context length (512).\n",
      "Number of tokens (552) exceeded maximum context length (512).\n",
      "Number of tokens (553) exceeded maximum context length (512).\n",
      "Number of tokens (554) exceeded maximum context length (512).\n"
     ]
    },
    {
     "name": "stdout",
     "output_type": "stream",
     "text": [
      "=== FÁBULA: 21144-25 ===\n",
      "\n",
      "Resumen: Un carnicero se encontró ocupado en su trabajo cuando un cliente llegó a la carnicería, pero el cliente le pidió que lo hiciera rápidamente y que no pensara mucho, luego, cuando estuvo listo el corte de carne para ese cliente, este se fue sin pagarle.\n",
      "1. La fábula \"21144-25\" gira en torno a un carnicero que trabaja en una carnicería donde tienen que hacer rápidamente los cortes de carne para sus clientes.\n",
      "2. Uno de los temas más recurrentes es la falta de tiempo y presión para realizar el corte de carne adecuado, lo cual lleva a una pérdida de calidad en la carne.\n",
      "3. Otro subtema relacionado con el fútbol es la importancia de entender la manera y pensamelo como funciones entre los patrones de antiguir los patrones la culturas y hacer cortes técos bien las preferencias y cumplas bien las preferencias mut\n",
      "============================================================\n",
      "=== FÁBULA: 21144-26 ===\n",
      "\n",
      "    Resumen: La campanilla del perro mas amigo se acostumbra a sonar solo cuando su presencia maldada lo lleva a la plaza, donde publica sus razones. Pero este mismo perro no manda al gato, ni siquiera le sabe, porque los anos pasados en cercana soledad se convirtieron en un problema.\n",
      "    1. La campanilla del perro es el elemento central de la fábula.\n",
      "    2. El amigo del perro es una figura important, pero no es el protagonista.\n",
      "    3. Las publicaciones del perro son un subtema recurrente en la fábula.\n",
      "============================================================\n"
     ]
    },
    {
     "name": "stderr",
     "output_type": "stream",
     "text": [
      "Number of tokens (513) exceeded maximum context length (512).\n",
      "Number of tokens (514) exceeded maximum context length (512).\n",
      "Number of tokens (515) exceeded maximum context length (512).\n",
      "Number of tokens (516) exceeded maximum context length (512).\n",
      "Number of tokens (517) exceeded maximum context length (512).\n",
      "Number of tokens (518) exceeded maximum context length (512).\n",
      "Number of tokens (519) exceeded maximum context length (512).\n",
      "Number of tokens (520) exceeded maximum context length (512).\n"
     ]
    },
    {
     "name": "stdout",
     "output_type": "stream",
     "text": [
      "=== FÁBULA: 21144-27 ===\n",
      "\n",
      "Resumen: El perro Leon, temorizado por los rugientes cántaros a fuego bajo, surgió de la casa y ruidosamente se dirigió a donde podía encontrar a su amigo, un hombre sin cabeza. Pero cuando llegó, se enteró que su amigo había sido perseguido y había huido del lugar.\n",
      "\n",
      "1. La vida cotidiana del protagonista del cuento \"21144-27\", Leon el perro, está marcada por el temor a los cántaros a fuego bajo, los cuales aparecen como una amenaza física para él y sus amigos.\n",
      "2. El protagonista del cuento, Leon el perro, muestra un gran apoyo y soporte a sus amigos cuando éste es perseguido por los cántaros a fuego bajo. Este apoyo puede serálo es demu\n",
      "============================================================\n",
      "\n",
      "Resultados guardados en 'resultados_fábulas.json'\n"
     ]
    }
   ],
   "source": [
    "import json\n",
    "import re\n",
    "from ctransformers import AutoModelForCausalLM\n",
    "\n",
    "# Cargar modelo\n",
    "model = AutoModelForCausalLM.from_pretrained(\n",
    "    \"C:/Users/michd/Downloads\",\n",
    "    model_file=\"mistral-7b-instruct-v0.1.Q8_0.gguf\",\n",
    "    model_type=\"Mistral\",\n",
    "    #max_new_tokens=512,\n",
    ")\n",
    "\n",
    "# Cargar palabras clave desde LDA\n",
    "with open(\"lda_topics.json\", \"r\", encoding=\"utf-8\") as f:\n",
    "    topics = json.load(f)\n",
    "\n",
    "resultados = {}\n",
    "\n",
    "for fabula_id, topic_string in topics.items():\n",
    "    # Extraer las palabras clave (formato: 0.123*\"lobo\" + ...)\n",
    "    keywords = [word.split(\"*\")[1].strip('\"') for word in topic_string.split(\"+\")]\n",
    "\n",
    "    # Armar el prompt\n",
    "    prompt = f\"\"\"\n",
    "    Palabras clave: {', '.join(keywords)}\n",
    "    Con la lista de palabras clave relacionadas con la fábula \"{fabula_id}\", redacta en un único enunciado\n",
    "    el resumen de la fábula \"{fabula_id}\". Y luego, redacta tres subtemas relacionados con la fábula \"{fabula_id}\".\n",
    "    Devuelve el resultado en el siguiente formato:\n",
    "    Resumen: [un único enunciado de la fábula basado en las palabras clave]\n",
    "    1. [subtema 1]\n",
    "    2. [subtema 2]\n",
    "    3. [subtema 3]\n",
    "    \"\"\"\n",
    "\n",
    "    # Generar respuesta\n",
    "    respuesta = model(prompt)\n",
    "\n",
    "    # Mostrar en consola\n",
    "    print(f\"=== FÁBULA: {fabula_id} ===\")\n",
    "    print(respuesta)\n",
    "    print(\"=\" * 60)\n",
    "\n",
    "    # Guardar en resultados\n",
    "    resultados[fabula_id] = {\n",
    "        \"keywords\": keywords,\n",
    "        \"respuesta\": respuesta.strip()\n",
    "    }\n",
    "\n",
    "# === GUARDAR RESULTADOS A JSON ===\n",
    "with open(\"resultados_fábulas.json\", \"w\", encoding=\"utf-8\") as out:\n",
    "    json.dump(resultados, out, indent=2, ensure_ascii=False)\n",
    "\n",
    "print(\"\\nResultados guardados en 'resultados_fábulas.json'\")"
   ]
  },
  {
   "cell_type": "markdown",
   "metadata": {
    "id": "Kx-dZSFJz9cK"
   },
   "source": [
    "# **Ejercicio 6:**"
   ]
  },
  {
   "cell_type": "markdown",
   "metadata": {
    "id": "3w3usdaC0BCj"
   },
   "source": [
    "* #### **Incluyan sus conclusiones de la actividad audio-a-texto:**\n",
    "\n",
    "El desarrollo de esta actividad nos ayudó a integrar dos enfoques fundamentales en el procesamiento moderno de texto: el modelado de tópicos no supervisado con LDA (Latent Dirichlet Allocation) y la generación de texto con modelos de lenguaje de gran tamaño (LLM). A través de esta práctica, continuamos realizando limpieza (tokenización y eliminación de stopwords) de datos, que en esta ocasión, se obtuvieron a través de la transformación de archivos de audio en texto, se extrajo de ellos temas latentes con LDA, y posteriormente se utilizó un modelo LLM local para sintetizar esa información en forma de resúmenes y sus principales subtemas.\n",
    "\n",
    "Notamos que el enfoque LDA permite identificar palabras clave recurrentes en los audios transcritos, lo cual es útil para representar el contenido en forma condensada y temática.\n",
    "La integración con un modelo LLM (de los cuales probamos varios como Mistral, TinyLLaMA, Zephyr) facilitó la generación de contenido textual enriquecido, utilizando las palabras clave como punto de partida para estas inferencias y resúmenes.\n",
    "Esta combinación mostró cómo, incluso sin contar con una gran cantidad de datos, es posible simular procesos de análisis documental más complejos y eficientes que combinan análisis estadístico y generación contextualizada.\n",
    "\n",
    "Entre los principales retos a los que nos enfrentamos esta ocasión, fue a los conflictos de dependencias entre librerías, que se lograron solventar con instalaciones en ambientes virtuales. \n",
    "El flujo completo (audio → texto → LDA → palabras clave → LLM) implicó el uso conjunto de múltiples bibliotecas (pydub, torchaudio, transformers, gensim, ctransformers), lo cual nos requirió conocimientos intermedios de manejo de datos y estructuras modulares en Python. Muchas bibliotecas modernas no están completamente listas para funcionar en Windows con Python 3.12, lo que requirió reinstalaciones, pruebas y cambios de versión. También, al menos uno de los compañeros no cuenta con GPU compatible con NVIDIA, lo que también merma la ejecución de algunas funciones.\n",
    "Fue necesario investigar qué modelos estaban bien soportados (como mistral-7b-instruct) y verificar que estuvieran cuantizados correctamente para ejecutarse localmente, ya que debido al tamaño de los modelos y la capacidad limitada del hardware, hubo restricciones en la cantidad de tokens procesados y la velocidad de inferencia.\n",
    "Además, es necesario documentarse en cómo realizar el prompt de acuerdo al modelo, porque hay algunos que son mas conversacionales las instrucciones y otros con los que se tiene que ser más preciso.\n",
    "\n",
    "A pesar de todo lo anterior mencionado, la actividad demuestra el potencial real de integrar modelos estadísticos y generativos para el análisis de contenido multimodal. Este tipo de procesamiento es esencial en entornos donde la cantidad de información supera la capacidad humana de análisis y donde los resúmenes automáticos pueden ahorrar tiempo y esfuerzo.\n",
    "Además, el haber trabajado con modelos LLM de forma local (sin depender de APIs pagadas) brinda una experiencia valiosa de cómo desplegar soluciones NLP accesibles, eficientes y reproducibles."
   ]
  },
  {
   "cell_type": "markdown",
   "metadata": {
    "id": "CtB5Q3m41YQ0"
   },
   "source": [
    "# **Fin de la actividad LDA y LMM: audio-a-texto**"
   ]
  }
 ],
 "metadata": {
  "language_info": {
   "name": "python"
  }
 },
 "nbformat": 4,
 "nbformat_minor": 4
}
